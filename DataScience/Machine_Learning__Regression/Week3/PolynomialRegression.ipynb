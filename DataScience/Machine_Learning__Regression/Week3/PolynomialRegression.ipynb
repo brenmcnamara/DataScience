{
 "cells": [
  {
   "cell_type": "markdown",
   "metadata": {},
   "source": [
    "# Assessing Fit (polynomial regression)"
   ]
  },
  {
   "cell_type": "markdown",
   "metadata": {},
   "source": [
    "In this notebook you will compare different regression models in order to assess which model fits best. We will be using polynomial regression as a means to examine this topic. In particular you will:\n",
    "* Use matplotlib to visualize polynomial regressions\n",
    "* Use matplotlib to visualize the same polynomial degree on different subsets of the data\n",
    "* Use a validation set to select a polynomial degree\n",
    "* Assess the final fit using test data\n",
    "\n",
    "We will continue to use the House data from previous notebooks."
   ]
  },
  {
   "cell_type": "markdown",
   "metadata": {},
   "source": [
    "First, we're going to write a polynomial function that takes a NumPy Array and a maximal degree and returns a NumPy Matrix with columns containing the NumPy Array to all the powers up to the maximal degree."
   ]
  },
  {
   "cell_type": "code",
   "execution_count": 1,
   "metadata": {},
   "outputs": [
    {
     "name": "stdout",
     "output_type": "stream",
     "text": [
      "[1. 2. 3.]\n",
      "[ 1.  8. 27.]\n"
     ]
    }
   ],
   "source": [
    "import numpy as np\n",
    "\n",
    "tmp = np.array([1., 2., 3.])\n",
    "tmp_cubed = np.array([x ** 3 for x in tmp])\n",
    "\n",
    "print(tmp)\n",
    "print(tmp_cubed)"
   ]
  },
  {
   "cell_type": "markdown",
   "metadata": {},
   "source": [
    "We can create an empty DataFrame using pd.DataFrame() and then add any columns to it. For example we create an empty SFrame and make the column 'power_1' to be the first power of tmp (i.e. tmp itself)."
   ]
  },
  {
   "cell_type": "code",
   "execution_count": 2,
   "metadata": {},
   "outputs": [
    {
     "data": {
      "text/html": [
       "<div>\n",
       "<style scoped>\n",
       "    .dataframe tbody tr th:only-of-type {\n",
       "        vertical-align: middle;\n",
       "    }\n",
       "\n",
       "    .dataframe tbody tr th {\n",
       "        vertical-align: top;\n",
       "    }\n",
       "\n",
       "    .dataframe thead th {\n",
       "        text-align: right;\n",
       "    }\n",
       "</style>\n",
       "<table border=\"1\" class=\"dataframe\">\n",
       "  <thead>\n",
       "    <tr style=\"text-align: right;\">\n",
       "      <th></th>\n",
       "      <th>power_1</th>\n",
       "    </tr>\n",
       "  </thead>\n",
       "  <tbody>\n",
       "    <tr>\n",
       "      <th>0</th>\n",
       "      <td>1.0</td>\n",
       "    </tr>\n",
       "    <tr>\n",
       "      <th>1</th>\n",
       "      <td>2.0</td>\n",
       "    </tr>\n",
       "    <tr>\n",
       "      <th>2</th>\n",
       "      <td>3.0</td>\n",
       "    </tr>\n",
       "  </tbody>\n",
       "</table>\n",
       "</div>"
      ],
      "text/plain": [
       "   power_1\n",
       "0      1.0\n",
       "1      2.0\n",
       "2      3.0"
      ]
     },
     "execution_count": 2,
     "metadata": {},
     "output_type": "execute_result"
    }
   ],
   "source": [
    "import pandas as pd\n",
    "\n",
    "df = pd.DataFrame()\n",
    "df['power_1'] = tmp\n",
    "df"
   ]
  },
  {
   "cell_type": "markdown",
   "metadata": {},
   "source": [
    "# Polynomial_sframe function"
   ]
  },
  {
   "cell_type": "markdown",
   "metadata": {},
   "source": [
    "Using the concept above, we can write a function that generates a `DataFrame` with the given degree polynomial."
   ]
  },
  {
   "cell_type": "code",
   "execution_count": 3,
   "metadata": {},
   "outputs": [],
   "source": [
    "def polynomial_frame(feature, degree):\n",
    "    # assume that degree >= 1\n",
    "    poly_frame = pd.DataFrame()\n",
    "    poly_frame['power_1'] = feature\n",
    "\n",
    "    if degree > 1:\n",
    "        for power in range(2, degree+1): \n",
    "            name = 'power_' + str(power)\n",
    "            poly_frame[name] = np.array([x ** power for x in feature])\n",
    "\n",
    "    return poly_frame"
   ]
  },
  {
   "cell_type": "markdown",
   "metadata": {},
   "source": [
    "To test your function consider the smaller tmp variable and what you would expect the outcome of the following call:"
   ]
  },
  {
   "cell_type": "code",
   "execution_count": 4,
   "metadata": {},
   "outputs": [
    {
     "data": {
      "text/html": [
       "<div>\n",
       "<style scoped>\n",
       "    .dataframe tbody tr th:only-of-type {\n",
       "        vertical-align: middle;\n",
       "    }\n",
       "\n",
       "    .dataframe tbody tr th {\n",
       "        vertical-align: top;\n",
       "    }\n",
       "\n",
       "    .dataframe thead th {\n",
       "        text-align: right;\n",
       "    }\n",
       "</style>\n",
       "<table border=\"1\" class=\"dataframe\">\n",
       "  <thead>\n",
       "    <tr style=\"text-align: right;\">\n",
       "      <th></th>\n",
       "      <th>power_1</th>\n",
       "      <th>power_2</th>\n",
       "      <th>power_3</th>\n",
       "    </tr>\n",
       "  </thead>\n",
       "  <tbody>\n",
       "    <tr>\n",
       "      <th>0</th>\n",
       "      <td>1.0</td>\n",
       "      <td>1.0</td>\n",
       "      <td>1.0</td>\n",
       "    </tr>\n",
       "    <tr>\n",
       "      <th>1</th>\n",
       "      <td>2.0</td>\n",
       "      <td>4.0</td>\n",
       "      <td>8.0</td>\n",
       "    </tr>\n",
       "    <tr>\n",
       "      <th>2</th>\n",
       "      <td>3.0</td>\n",
       "      <td>9.0</td>\n",
       "      <td>27.0</td>\n",
       "    </tr>\n",
       "  </tbody>\n",
       "</table>\n",
       "</div>"
      ],
      "text/plain": [
       "   power_1  power_2  power_3\n",
       "0      1.0      1.0      1.0\n",
       "1      2.0      4.0      8.0\n",
       "2      3.0      9.0     27.0"
      ]
     },
     "execution_count": 4,
     "metadata": {},
     "output_type": "execute_result"
    }
   ],
   "source": [
    "polynomial_frame(tmp, 3)"
   ]
  },
  {
   "cell_type": "markdown",
   "metadata": {},
   "source": [
    "# Visualizing polynomial regression"
   ]
  },
  {
   "cell_type": "markdown",
   "metadata": {},
   "source": [
    "Let's use matplotlib to visualize what a polynomial regression looks like on some real data."
   ]
  },
  {
   "cell_type": "code",
   "execution_count": 5,
   "metadata": {},
   "outputs": [],
   "source": [
    "sales = pd.read_csv('kc_house_data.csv')"
   ]
  },
  {
   "cell_type": "markdown",
   "metadata": {},
   "source": [
    "As in Week 3, we will use the sqft_living variable. For plotting purposes (connecting the dots), you'll need to sort by the values of sqft_living. For houses with identical square footage, we break the tie by their prices."
   ]
  },
  {
   "cell_type": "code",
   "execution_count": 6,
   "metadata": {},
   "outputs": [],
   "source": [
    "sales = sales.sort_values(by=['sqft_living', 'price'])"
   ]
  },
  {
   "cell_type": "markdown",
   "metadata": {},
   "source": [
    "Let's start with a degree 1 polynomial using 'sqft_living' (i.e. a line) to predict 'price' and plot what it looks like."
   ]
  },
  {
   "cell_type": "code",
   "execution_count": 7,
   "metadata": {},
   "outputs": [],
   "source": [
    "poly1_data = polynomial_frame(sales['sqft_living'], 1)\n",
    "poly1_data['price'] = sales['price'] # add price to the data since it's the target"
   ]
  },
  {
   "cell_type": "code",
   "execution_count": 8,
   "metadata": {},
   "outputs": [
    {
     "name": "stderr",
     "output_type": "stream",
     "text": [
      "/Library/Frameworks/Python.framework/Versions/3.7/lib/python3.7/site-packages/sklearn/linear_model/base.py:509: RuntimeWarning: internal gelsd driver lwork query error, required iwork dimension not returned. This is likely the result of LAPACK bug 0038, fixed in LAPACK 3.2.2 (released July 21, 2010). Falling back to 'gelss' driver.\n",
      "  linalg.lstsq(X, y)\n"
     ]
    },
    {
     "data": {
      "text/plain": [
       "LinearRegression(copy_X=True, fit_intercept=True, n_jobs=1, normalize=False)"
      ]
     },
     "execution_count": 8,
     "metadata": {},
     "output_type": "execute_result"
    }
   ],
   "source": [
    "from sklearn import linear_model\n",
    "\n",
    "model1_features = ['power_1']\n",
    "\n",
    "model1 = linear_model.LinearRegression()\n",
    "model1.fit(poly1_data[model1_features], poly1_data['price'])"
   ]
  },
  {
   "cell_type": "code",
   "execution_count": 9,
   "metadata": {},
   "outputs": [
    {
     "data": {
      "text/plain": [
       "(-43580.743094475125, array([280.6235679]))"
      ]
     },
     "execution_count": 9,
     "metadata": {},
     "output_type": "execute_result"
    }
   ],
   "source": [
    "#let's take a look at the weights before we plot\n",
    "(model1.intercept_, model1.coef_)"
   ]
  },
  {
   "cell_type": "code",
   "execution_count": 10,
   "metadata": {},
   "outputs": [],
   "source": [
    "import matplotlib.pyplot as plt\n",
    "%matplotlib inline"
   ]
  },
  {
   "cell_type": "code",
   "execution_count": 11,
   "metadata": {},
   "outputs": [
    {
     "data": {
      "text/plain": [
       "[<matplotlib.lines.Line2D at 0x11b23f208>,\n",
       " <matplotlib.lines.Line2D at 0x11b23f7f0>]"
      ]
     },
     "execution_count": 11,
     "metadata": {},
     "output_type": "execute_result"
    },
    {
     "data": {
      "image/png": "[encoded data removed]",
      "text/plain": [
       "<Figure size 432x288 with 1 Axes>"
      ]
     },
     "metadata": {
      "needs_background": "light"
     },
     "output_type": "display_data"
    }
   ],
   "source": [
    "plt.plot(poly1_data['power_1'],poly1_data['price'],'.',\n",
    "        poly1_data['power_1'], model1.predict(poly1_data[model1_features]),'-')"
   ]
  },
  {
   "cell_type": "markdown",
   "metadata": {},
   "source": [
    "Let's unpack that plt.plot() command. The first pair of arguments we passed are the 1st power of sqft and the actual price. We then ask it to print these as dots '.'. The next pair we pass is the 1st power of sqft and the predicted values from the linear model. We ask these to be plotted as a line '-'. \n",
    "\n",
    "We can see, not surprisingly, that the predicted values all fall on a line, specifically the one with slope 280 and intercept -43579. What if we wanted to plot a second degree polynomial?"
   ]
  },
  {
   "cell_type": "code",
   "execution_count": 12,
   "metadata": {},
   "outputs": [
    {
     "data": {
      "text/plain": [
       "array(['id', 'date', 'price', 'bedrooms', 'bathrooms', 'sqft_living',\n",
       "       'sqft_lot', 'floors', 'waterfront', 'view', 'condition', 'grade',\n",
       "       'sqft_above', 'sqft_basement', 'yr_built', 'yr_renovated',\n",
       "       'zipcode', 'lat', 'long', 'sqft_living15', 'sqft_lot15'],\n",
       "      dtype=object)"
      ]
     },
     "execution_count": 12,
     "metadata": {},
     "output_type": "execute_result"
    }
   ],
   "source": [
    "# Side Note: You can get a set of column names from pandas as follows:\n",
    "sales.columns.values # as array\n",
    "np.array(sales.columns.values) # convert to NumPy array"
   ]
  },
  {
   "cell_type": "code",
   "execution_count": 13,
   "metadata": {},
   "outputs": [
    {
     "data": {
      "text/plain": [
       "LinearRegression(copy_X=True, fit_intercept=True, n_jobs=1, normalize=False)"
      ]
     },
     "execution_count": 13,
     "metadata": {},
     "output_type": "execute_result"
    }
   ],
   "source": [
    "poly2_data = polynomial_frame(sales['sqft_living'], 2)\n",
    "\n",
    "model2_features = poly2_data.columns.values\n",
    "poly2_data['price'] = sales['price'] # add price to the data since it's the target\n",
    "\n",
    "model2 = linear_model.LinearRegression()\n",
    "model2.fit(poly2_data[model2_features], poly2_data['price'])"
   ]
  },
  {
   "cell_type": "code",
   "execution_count": 14,
   "metadata": {},
   "outputs": [
    {
     "data": {
      "text/plain": [
       "(199222.27930548205, array([6.79940947e+01, 3.85812609e-02]))"
      ]
     },
     "execution_count": 14,
     "metadata": {},
     "output_type": "execute_result"
    }
   ],
   "source": [
    "(model2.intercept_, model2.coef_)"
   ]
  },
  {
   "cell_type": "code",
   "execution_count": 15,
   "metadata": {},
   "outputs": [
    {
     "data": {
      "text/plain": [
       "[<matplotlib.lines.Line2D at 0x11b49c5f8>,\n",
       " <matplotlib.lines.Line2D at 0x11b469ef0>]"
      ]
     },
     "execution_count": 15,
     "metadata": {},
     "output_type": "execute_result"
    },
    {
     "data": {
      "image/png": "[encoded data removed]",
      "text/plain": [
       "<Figure size 432x288 with 1 Axes>"
      ]
     },
     "metadata": {
      "needs_background": "light"
     },
     "output_type": "display_data"
    }
   ],
   "source": [
    "plt.plot(poly2_data['power_1'],poly2_data['price'],'.',\n",
    "        poly2_data['power_1'], model2.predict(poly2_data[model2_features]),'-')"
   ]
  },
  {
   "cell_type": "markdown",
   "metadata": {},
   "source": [
    "The resulting model looks like half a parabola. Try on your own to see what the cubic looks like:"
   ]
  },
  {
   "cell_type": "code",
   "execution_count": 16,
   "metadata": {},
   "outputs": [
    {
     "data": {
      "text/plain": [
       "(336819.74822132086,\n",
       " array([-9.01819864e+01,  8.70465089e-02, -3.84055260e-06]))"
      ]
     },
     "execution_count": 16,
     "metadata": {},
     "output_type": "execute_result"
    }
   ],
   "source": [
    "poly3_data = polynomial_frame(sales['sqft_living'], 3)\n",
    "model3_features = poly3_data.columns.values\n",
    "poly3_data['price'] = sales['price']\n",
    "\n",
    "model3 = linear_model.LinearRegression()\n",
    "model3.fit(poly3_data[model3_features], poly3_data['price'])\n",
    "\n",
    "(model3.intercept_, model3.coef_)"
   ]
  },
  {
   "cell_type": "code",
   "execution_count": 17,
   "metadata": {},
   "outputs": [
    {
     "data": {
      "text/plain": [
       "[<matplotlib.lines.Line2D at 0x11b675080>,\n",
       " <matplotlib.lines.Line2D at 0x11b652f28>]"
      ]
     },
     "execution_count": 17,
     "metadata": {},
     "output_type": "execute_result"
    },
    {
     "data": {
      "image/png": "[encoded data removed]",
      "text/plain": [
       "<Figure size 432x288 with 1 Axes>"
      ]
     },
     "metadata": {
      "needs_background": "light"
     },
     "output_type": "display_data"
    }
   ],
   "source": [
    "plt.plot(poly3_data['power_1'], poly3_data['price'], '.',\n",
    "         poly3_data['power_1'], model3.predict(poly3_data[model3_features]), '-')"
   ]
  },
  {
   "cell_type": "markdown",
   "metadata": {},
   "source": [
    "Now try a 15th degree polynomial:"
   ]
  },
  {
   "cell_type": "code",
   "execution_count": 18,
   "metadata": {},
   "outputs": [
    {
     "data": {
      "text/plain": [
       "(537116.3296377396,\n",
       " array([ 4.56404164e-91, -2.64606099e-50, -1.24412815e-57,  1.80074829e-60,\n",
       "         1.30265188e-74,  2.68575522e-71,  2.26147568e-67,  1.85900299e-63,\n",
       "         1.47144116e-59,  1.09771012e-55,  7.43509038e-52,  4.23015578e-48,\n",
       "         1.61618577e-44, -2.49283826e-48,  9.59718336e-53]))"
      ]
     },
     "execution_count": 18,
     "metadata": {},
     "output_type": "execute_result"
    }
   ],
   "source": [
    "poly15_data = polynomial_frame(sales['sqft_living'], 15)\n",
    "model15_features = poly15_data.columns.values\n",
    "poly15_data['price'] = sales['price']\n",
    "\n",
    "model15 = linear_model.LinearRegression()\n",
    "model15.fit(poly15_data[model15_features], poly15_data['price'])\n",
    "\n",
    "(model15.intercept_, model15.coef_)"
   ]
  },
  {
   "cell_type": "code",
   "execution_count": 19,
   "metadata": {},
   "outputs": [
    {
     "data": {
      "text/plain": [
       "[<matplotlib.lines.Line2D at 0x11bf1bdd8>,\n",
       " <matplotlib.lines.Line2D at 0x11b652588>]"
      ]
     },
     "execution_count": 19,
     "metadata": {},
     "output_type": "execute_result"
    },
    {
     "data": {
      "image/png": "[encoded data removed]",
      "text/plain": [
       "<Figure size 432x288 with 1 Axes>"
      ]
     },
     "metadata": {
      "needs_background": "light"
     },
     "output_type": "display_data"
    }
   ],
   "source": [
    "plt.plot(poly15_data['power_1'], poly15_data['price'], '.',\n",
    "         poly15_data['power_1'], model15.predict(poly15_data[model15_features]), '-')"
   ]
  },
  {
   "cell_type": "markdown",
   "metadata": {},
   "source": [
    "What do you think of the 15th degree polynomial? Do you think this is appropriate? If we were to change the data do you think you'd get pretty much the same curve? Let's take a look."
   ]
  },
  {
   "cell_type": "markdown",
   "metadata": {},
   "source": [
    "# Changing the data and re-learning"
   ]
  },
  {
   "cell_type": "markdown",
   "metadata": {},
   "source": [
    "We're going to split the sales data into four subsets of roughly equal size. Then you will estimate a 15th degree polynomial model on all four subsets of the data. Print the coefficients (you should use .print_rows(num_rows = 16) to view all of them) and plot the resulting fit (as we did above)."
   ]
  },
  {
   "cell_type": "code",
   "execution_count": 20,
   "metadata": {},
   "outputs": [
    {
     "data": {
      "text/plain": [
       "(5437, 5469, 5413, 5294)"
      ]
     },
     "execution_count": 20,
     "metadata": {},
     "output_type": "execute_result"
    }
   ],
   "source": [
    "rand_nums = np.random.rand(len(sales))\n",
    "set_1 = sales[rand_nums <= 0.25]\n",
    "set_2 = sales[(rand_nums <= 0.5) * (rand_nums > 0.25)]\n",
    "set_3 = sales[(rand_nums <= 0.75) * (rand_nums > 0.5)]\n",
    "set_4 = sales[(rand_nums <= 1.0) * (rand_nums > 0.75)]\n",
    "\n",
    "(len(set_1), len(set_2), len(set_3), len(set_4))"
   ]
  },
  {
   "cell_type": "markdown",
   "metadata": {},
   "source": [
    "Fit a 15th degree polynomial on set_1, set_2, set_3, and set_4 using sqft_living to predict prices. Print the coefficients and make a plot of the resulting model."
   ]
  },
  {
   "cell_type": "code",
   "execution_count": 21,
   "metadata": {},
   "outputs": [
    {
     "name": "stdout",
     "output_type": "stream",
     "text": [
      "518648.82002248906 [ 1.38087000e-78  5.71253442e-40 -1.86054563e-45  2.16715258e-51\n",
      "  3.09730185e-54 -5.66730739e-57  4.10325748e-56  1.95837964e-52\n",
      "  8.67752172e-49  3.41184439e-45  1.08691948e-41  2.18923378e-38\n",
      " -7.19566333e-42  7.85491495e-46 -2.84803994e-50]\n"
     ]
    },
    {
     "data": {
      "text/plain": [
       "[<matplotlib.lines.Line2D at 0x11d12bcc0>,\n",
       " <matplotlib.lines.Line2D at 0x11b439048>]"
      ]
     },
     "execution_count": 21,
     "metadata": {},
     "output_type": "execute_result"
    },
    {
     "data": {
      "image/png": "[encoded data removed]",
      "text/plain": [
       "<Figure size 432x288 with 1 Axes>"
      ]
     },
     "metadata": {
      "needs_background": "light"
     },
     "output_type": "display_data"
    }
   ],
   "source": [
    "set_1_poly15 = polynomial_frame(set_1['sqft_living'], 15)\n",
    "set_1_features = set_1_poly15.columns.values\n",
    "set_1_poly15['price'] = set_1['price']\n",
    "\n",
    "model_set1 = linear_model.LinearRegression()\n",
    "model_set1.fit(set_1_poly15[set_1_features], set_1_poly15['price'])\n",
    "\n",
    "print(model_set1.intercept_, model_set1.coef_)\n",
    "\n",
    "plt.plot(set_1_poly15['power_1'], set_1_poly15['price'], '.',\n",
    "         set_1_poly15['power_1'], model_set1.predict(set_1_poly15[set_1_features]), '-')"
   ]
  },
  {
   "cell_type": "code",
   "execution_count": 22,
   "metadata": {},
   "outputs": [
    {
     "name": "stdout",
     "output_type": "stream",
     "text": [
      "532418.6126247077 [ 1.00707189e-90 -4.02345903e-51  3.96020746e-56  5.28281508e-60\n",
      "  2.26202548e-74  4.95677926e-71  3.99321393e-67  3.14225209e-63\n",
      "  2.38413392e-59  1.70828629e-55  1.11398798e-51  6.11810499e-48\n",
      "  2.26265077e-44 -3.50336499e-48  1.35342002e-52]\n"
     ]
    },
    {
     "data": {
      "text/plain": [
       "[<matplotlib.lines.Line2D at 0x11e6a1160>,\n",
       " <matplotlib.lines.Line2D at 0x11c01aba8>]"
      ]
     },
     "execution_count": 22,
     "metadata": {},
     "output_type": "execute_result"
    },
    {
     "data": {
      "image/png": "[encoded data removed]",
      "text/plain": [
       "<Figure size 432x288 with 1 Axes>"
      ]
     },
     "metadata": {
      "needs_background": "light"
     },
     "output_type": "display_data"
    }
   ],
   "source": [
    "set_2_poly15 = polynomial_frame(set_2['sqft_living'], 15)\n",
    "set_2_features = set_2_poly15.columns.values\n",
    "set_2_poly15['price'] = set_2['price']\n",
    "\n",
    "model_set2 = linear_model.LinearRegression()\n",
    "model_set2.fit(set_2_poly15[set_2_features], set_2_poly15['price'])\n",
    "\n",
    "print(model_set2.intercept_, model_set2.coef_)\n",
    "\n",
    "plt.plot(set_2_poly15['power_1'], set_2_poly15['price'], '.',\n",
    "         set_2_poly15['power_1'], model_set2.predict(set_2_poly15[set_2_features]), '-')"
   ]
  },
  {
   "cell_type": "code",
   "execution_count": 23,
   "metadata": {},
   "outputs": [
    {
     "name": "stdout",
     "output_type": "stream",
     "text": [
      "534499.8738865849 [ 4.51128233e-87 -2.01185107e-48  1.16485830e-54  2.53325726e-58\n",
      "  1.82209732e-71  3.66873821e-68  2.01523590e-64  1.08085855e-60\n",
      "  5.59036497e-57  2.73177512e-53  1.21575558e-49  4.56129374e-46\n",
      "  1.15384453e-42 -2.66281491e-46  1.50815245e-50]\n"
     ]
    },
    {
     "data": {
      "text/plain": [
       "[<matplotlib.lines.Line2D at 0x11ec11048>,\n",
       " <matplotlib.lines.Line2D at 0x11b48e320>]"
      ]
     },
     "execution_count": 23,
     "metadata": {},
     "output_type": "execute_result"
    },
    {
     "data": {
      "image/png": "[encoded data removed]",
      "text/plain": [
       "<Figure size 432x288 with 1 Axes>"
      ]
     },
     "metadata": {
      "needs_background": "light"
     },
     "output_type": "display_data"
    }
   ],
   "source": [
    "set_3_poly15 = polynomial_frame(set_3['sqft_living'], 15)\n",
    "set_3_features = set_3_poly15.columns.values\n",
    "set_3_poly15['price'] = set_3['price']\n",
    "\n",
    "model_set3 = linear_model.LinearRegression()\n",
    "model_set3.fit(set_3_poly15[set_3_features], set_3_poly15['price'])\n",
    "\n",
    "print(model_set3.intercept_, model_set3.coef_)\n",
    "\n",
    "plt.plot(set_3_poly15['power_1'], set_3_poly15['price'], '.',\n",
    "         set_3_poly15['power_1'], model_set3.predict(set_3_poly15[set_3_features]), '-')"
   ]
  },
  {
   "cell_type": "code",
   "execution_count": 24,
   "metadata": {},
   "outputs": [
    {
     "name": "stdout",
     "output_type": "stream",
     "text": [
      "488700.20626978925 [ 2.87267798e-76 -5.29320914e-39  1.08694287e-44  5.32139226e-50\n",
      " -2.02934188e-53  6.04537225e-58  2.11007836e-54  7.74190523e-51\n",
      "  2.62916897e-47  7.90561147e-44  1.92301725e-40  2.95409051e-37\n",
      " -1.31411781e-40  1.94885934e-44 -9.62631769e-49]\n"
     ]
    },
    {
     "data": {
      "text/plain": [
       "[<matplotlib.lines.Line2D at 0x11f03e3c8>,\n",
       " <matplotlib.lines.Line2D at 0x11eaf1a20>]"
      ]
     },
     "execution_count": 24,
     "metadata": {},
     "output_type": "execute_result"
    },
    {
     "data": {
      "image/png": "[encoded data removed]",
      "text/plain": [
       "<Figure size 432x288 with 1 Axes>"
      ]
     },
     "metadata": {
      "needs_background": "light"
     },
     "output_type": "display_data"
    }
   ],
   "source": [
    "set_4_poly15 = polynomial_frame(set_4['sqft_living'], 15)\n",
    "set_4_features = set_4_poly15.columns.values\n",
    "set_4_poly15['price'] = set_4['price']\n",
    "\n",
    "model_set4 = linear_model.LinearRegression()\n",
    "model_set4.fit(set_4_poly15[set_4_features], set_4_poly15['price'])\n",
    "\n",
    "print(model_set4.intercept_, model_set4.coef_)\n",
    "\n",
    "plt.plot(set_4_poly15['power_1'], set_4_poly15['price'], '.',\n",
    "         set_4_poly15['power_1'], model_set4.predict(set_4_poly15[set_4_features]), '-')"
   ]
  },
  {
   "cell_type": "markdown",
   "metadata": {},
   "source": [
    "# Selecting a Polynomial Degree"
   ]
  },
  {
   "cell_type": "markdown",
   "metadata": {},
   "source": [
    "Whenever we have a \"magic\" parameter like the degree of the polynomial there is one well-known way to select these parameters: validation set. (We will explore another approach in week 4).\n",
    "\n",
    "We split the sales dataset 3-way into training set, test set, and validation set as follows:\n",
    "\n",
    "* Split our sales data into 2 sets: `training_and_validation` and `testing` (90 / 10 split).\n",
    "* Further split our training data into two sets: `training` and `validation`. (50 / 50 split)."
   ]
  },
  {
   "cell_type": "code",
   "execution_count": 25,
   "metadata": {},
   "outputs": [
    {
     "data": {
      "text/plain": [
       "(9793, 9655, 2165)"
      ]
     },
     "execution_count": 25,
     "metadata": {},
     "output_type": "execute_result"
    }
   ],
   "source": [
    "testing_mask = np.random.rand(len(sales)) > 0.9\n",
    "training_and_validation = sales[~testing_mask]\n",
    "testing = sales[testing_mask]\n",
    "\n",
    "training_mask = np.random.rand(len(training_and_validation)) < 0.5\n",
    "training = training_and_validation[training_mask]\n",
    "validation = training_and_validation[~training_mask]\n",
    "\n",
    "(len(training), len(validation), len(testing))"
   ]
  },
  {
   "cell_type": "markdown",
   "metadata": {},
   "source": [
    "Next you should write a loop that does the following:\n",
    "* For degree in [1, 2, 3, 4, 5, 6, 7, 8, 9, 10, 11, 12, 13, 14, 15] (to get this in python type range(1, 15+1))\n",
    "    * Build an `DataFrame` of polynomial data of train_data['sqft_living'] at the current degree\n",
    "    * Add train_data['price'] to the polynomial `DataFrame`\n",
    "    * Learn a polynomial regression model to sqft vs price with that degree on TRAIN data\n",
    "    * Compute the RSS on VALIDATION data (here you will want to use .predict()) for that degree and you will need to make a polynmial `DataFrame` using validation data.\n",
    "* Report which degree had the lowest RSS on validation data"
   ]
  },
  {
   "cell_type": "code",
   "execution_count": 26,
   "metadata": {},
   "outputs": [],
   "source": [
    "def compute_rss(model, samples, output):\n",
    "    predictions = model.predict(samples)\n",
    "    error = output - predictions\n",
    "    return np.dot(error, error)"
   ]
  },
  {
   "cell_type": "code",
   "execution_count": 30,
   "metadata": {},
   "outputs": [
    {
     "data": {
      "text/plain": [
       "(2, 623344832571473.9)"
      ]
     },
     "execution_count": 30,
     "metadata": {},
     "output_type": "execute_result"
    }
   ],
   "source": [
    "max_degree = 15\n",
    "models = []\n",
    "for degree in range(1, max_degree + 1):\n",
    "    poly_data = polynomial_frame(training['sqft_living'], degree)\n",
    "    features = poly_data.columns.values\n",
    "    poly_data['price'] = training['price']\n",
    "    \n",
    "    model = linear_model.LinearRegression()\n",
    "    model.fit(poly_data[features], poly_data['price'])\n",
    "    models.append(model)\n",
    "\n",
    "best_model = None\n",
    "best_model_validation_rss = None\n",
    "best_degree = None\n",
    "for idx, model in enumerate(models):\n",
    "    degree = idx + 1\n",
    "    poly_data = polynomial_frame(validation['sqft_living'], degree)\n",
    "    features = poly_data.columns.values\n",
    "    poly_data['price'] = validation['price']\n",
    "    rss = compute_rss(model, poly_data[features], poly_data['price'])\n",
    "\n",
    "    if best_model is None or rss < best_model_validation_rss:\n",
    "        best_model = model\n",
    "        best_degree = degree\n",
    "        best_model_validation_rss = rss\n",
    "\n",
    "(best_degree, best_model_validation_rss)\n",
    "    \n"
   ]
  },
  {
   "cell_type": "markdown",
   "metadata": {},
   "source": [
    "Now that you have chosen the degree of your polynomial using validation data, compute the RSS of this model on TEST data."
   ]
  },
  {
   "cell_type": "code",
   "execution_count": 33,
   "metadata": {},
   "outputs": [
    {
     "data": {
      "text/plain": [
       "192135862352843.2"
      ]
     },
     "execution_count": 33,
     "metadata": {},
     "output_type": "execute_result"
    }
   ],
   "source": [
    "poly_data = polynomial_frame(testing['sqft_living'], best_degree)\n",
    "features = poly_data.columns.values\n",
    "poly_data['price'] = testing['price']\n",
    "\n",
    "best_test_rss = compute_rss(best_model, poly_data[features], poly_data['price'])\n",
    "best_test_rss"
   ]
  }
 ],
 "metadata": {
  "kernelspec": {
   "display_name": "Python 3",
   "language": "python",
   "name": "python3"
  },
  "language_info": {
   "codemirror_mode": {
    "name": "ipython",
    "version": 3
   },
   "file_extension": ".py",
   "mimetype": "text/x-python",
   "name": "python",
   "nbconvert_exporter": "python",
   "pygments_lexer": "ipython3",
   "version": "3.7.0"
  }
 },
 "nbformat": 4,
 "nbformat_minor": 1
}
