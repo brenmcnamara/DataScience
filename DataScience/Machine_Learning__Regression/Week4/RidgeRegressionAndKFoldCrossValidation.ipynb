{
 "cells": [
  {
   "cell_type": "markdown",
   "metadata": {},
   "source": [
    "# Ridge Regression (interpretation)"
   ]
  },
  {
   "cell_type": "markdown",
   "metadata": {},
   "source": [
    "In this notebook, we will run ridge regression multiple times with different L2 penalties to see which one produces the best fit. We will revisit the example of polynomial regression as a means to see the effect of L2 regularization. In particular, we will:\n",
    "* Use a pre-built implementation of regression to run polynomial regression\n",
    "* Use matplotlib to visualize polynomial regressions\n",
    "* Use a pre-built implementation of regression to run polynomial regression, this time with L2 penalty\n",
    "* Use matplotlib to visualize polynomial regressions under L2 regularization\n",
    "* Choose best L2 penalty using cross-validation.\n",
    "* Assess the final fit using test data.\n",
    "\n",
    "We will continue to use the House data from previous notebooks.  (In the next programming assignment for this module, you will implement your own ridge regression learning algorithm using gradient descent.)"
   ]
  },
  {
   "cell_type": "markdown",
   "metadata": {},
   "source": [
    "# Polynomial regression, revisited"
   ]
  },
  {
   "cell_type": "markdown",
   "metadata": {},
   "source": [
    "We build on the material from Week 3, where we wrote the function to produce an SFrame with columns containing the powers of a given input. Copy and paste the function `polynomial_frame` from Week 3:"
   ]
  },
  {
   "cell_type": "code",
   "execution_count": 1,
   "metadata": {},
   "outputs": [],
   "source": [
    "import pandas as pd\n",
    "\n",
    "def polynomial_frame(feature, degree):\n",
    "    frame = pd.DataFrame()\n",
    "    # Assuming degree of >= 1\n",
    "    frame['power_1'] = feature\n",
    "    if degree > 1:\n",
    "        for i in range(2, degree + 1):\n",
    "            frame['power_' + str(i)] = [x ** i for x in feature]\n",
    "    \n",
    "    return frame"
   ]
  },
  {
   "cell_type": "markdown",
   "metadata": {},
   "source": [
    "Let's use matplotlib to visualize what a polynomial regression looks like on the house data."
   ]
  },
  {
   "cell_type": "code",
   "execution_count": 2,
   "metadata": {},
   "outputs": [],
   "source": [
    "import matplotlib.pyplot as plt\n",
    "%matplotlib inline"
   ]
  },
  {
   "cell_type": "code",
   "execution_count": 97,
   "metadata": {},
   "outputs": [],
   "source": [
    "sales = pd.read_csv('kc_house_data.csv')"
   ]
  },
  {
   "cell_type": "markdown",
   "metadata": {},
   "source": [
    "As in Week 3, we will use the sqft_living variable. For plotting purposes (connecting the dots), you'll need to sort by the values of sqft_living. For houses with identical square footage, we break the tie by their prices."
   ]
  },
  {
   "cell_type": "code",
   "execution_count": 98,
   "metadata": {},
   "outputs": [],
   "source": [
    "sales = sales.sort_values(by=['sqft_living','price'])"
   ]
  },
  {
   "cell_type": "markdown",
   "metadata": {},
   "source": [
    "Let us revisit the 15th-order polynomial model using the 'sqft_living' input. Generate polynomial features up to degree 15 using `polynomial_sframe()` and fit a model with these features. When fitting the model, use an L2 penalty of `1e-5`:"
   ]
  },
  {
   "cell_type": "code",
   "execution_count": 5,
   "metadata": {},
   "outputs": [],
   "source": [
    "l2_small_penalty = 1e-5"
   ]
  },
  {
   "cell_type": "markdown",
   "metadata": {},
   "source": [
    "Note: When we have so many features and so few data points, the solution can become highly numerically unstable, which can sometimes lead to strange unpredictable results.  Thus, rather than using no regularization, we will introduce a tiny amount of regularization (`l2_penalty=1e-5`) to make the solution numerically stable.  (In lecture, we discussed the fact that regularization can also help with numerical stability, and here we are seeing a practical example.)\n",
    "\n",
    "With the L2 penalty specified above, fit the model and print out the learned weights."
   ]
  },
  {
   "cell_type": "code",
   "execution_count": 6,
   "metadata": {},
   "outputs": [
    {
     "data": {
      "text/plain": [
       "(334386547.89340305,\n",
       " array([-1.84688027e+05, -1.05861218e-35, -1.50179139e-31,  2.69850961e-25,\n",
       "         3.34438955e-21, -1.45047888e-21, -1.74771873e-16,  1.47089967e-19,\n",
       "        -3.67290989e-23,  2.58690181e-27,  3.77575321e-31, -9.03140239e-35,\n",
       "         7.64880970e-39, -3.11644650e-43,  5.11295355e-48]))"
      ]
     },
     "execution_count": 6,
     "metadata": {},
     "output_type": "execute_result"
    }
   ],
   "source": [
    "from sklearn import linear_model\n",
    "\n",
    "example_model = linear_model.Ridge(alpha = l2_small_penalty)\n",
    "example_frame = polynomial_frame(sales['sqft_living'], 15)\n",
    "example_features = example_frame.columns.values\n",
    "example_frame['price'] = sales['price']\n",
    "\n",
    "example_model.fit(example_frame[example_features], example_frame['price'])\n",
    "\n",
    "(example_model.intercept_, example_model.coef_)"
   ]
  },
  {
   "cell_type": "markdown",
   "metadata": {},
   "source": [
    "# Observe overfitting"
   ]
  },
  {
   "cell_type": "markdown",
   "metadata": {},
   "source": [
    "Recall from Week 3 that the polynomial fit of degree 15 changed wildly whenever the data changed. In particular, when we split the sales data into four subsets and fit the model of degree 15, the result came out to be very different for each subset. The model had a *high variance*. We will see in a moment that ridge regression reduces such variance. But first, we must reproduce the experiment we did in Week 3."
   ]
  },
  {
   "cell_type": "markdown",
   "metadata": {},
   "source": [
    "First, split the sales data into four subsets of roughly equal size and call them `set_1`, `set_2`, `set_3`, and `set_4`. Use `.random_split` function and make sure you set `seed=0`. "
   ]
  },
  {
   "cell_type": "code",
   "execution_count": 7,
   "metadata": {},
   "outputs": [
    {
     "data": {
      "text/plain": [
       "(5395, 5434, 5329, 5455)"
      ]
     },
     "execution_count": 7,
     "metadata": {},
     "output_type": "execute_result"
    }
   ],
   "source": [
    "import numpy as np\n",
    "\n",
    "split_1 = np.random.rand(len(sales)) < 0.5\n",
    "set_1_2 = sales[split_1]\n",
    "set_3_4 = sales[~split_1]\n",
    "\n",
    "split_2 = np.random.rand(len(set_1_2)) < 0.5\n",
    "set_1 = set_1_2[split_2]\n",
    "set_2 = set_1_2[~split_2]\n",
    "\n",
    "split_3 = np.random.rand(len(set_3_4)) < 0.5\n",
    "set_3 = set_3_4[split_3]\n",
    "set_4 = set_3_4[~split_3]\n",
    "\n",
    "(len(set_1), len(set_2), len(set_3), len(set_4))"
   ]
  },
  {
   "cell_type": "markdown",
   "metadata": {},
   "source": [
    "Next, fit a 15th degree polynomial on `set_1`, `set_2`, `set_3`, and `set_4`, using 'sqft_living' to predict prices. Print the weights and make a plot of the resulting model."
   ]
  },
  {
   "cell_type": "code",
   "execution_count": 8,
   "metadata": {},
   "outputs": [
    {
     "data": {
      "text/plain": [
       "(532364468.15487254,\n",
       " array([-5.76799541e+05, -3.47539306e-35,  2.09415784e-29,  2.55456417e-25,\n",
       "         2.00471242e-20,  2.84823690e-19, -1.54753079e-17,  1.12166260e-18,\n",
       "        -6.03989504e-22,  1.43208674e-25, -1.94948217e-29,  1.65087239e-33,\n",
       "        -8.69232036e-38,  2.62436468e-42, -3.48229070e-47]))"
      ]
     },
     "execution_count": 8,
     "metadata": {},
     "output_type": "execute_result"
    },
    {
     "data": {
      "image/png": "[encoded data removed]",
      "text/plain": [
       "<Figure size 432x288 with 1 Axes>"
      ]
     },
     "metadata": {
      "needs_background": "light"
     },
     "output_type": "display_data"
    }
   ],
   "source": [
    "frame_set_1 = polynomial_frame(set_1['sqft_living'], 15)\n",
    "frame_set_1_features = frame_set_1.columns.values\n",
    "frame_set_1['price'] = set_1['price']\n",
    "\n",
    "frame_set_1_model = linear_model.Ridge(l2_small_penalty)\n",
    "frame_set_1_model.fit(frame_set_1[frame_set_1_features], frame_set_1['price'])\n",
    "\n",
    "plt.plot(frame_set_1['power_1'], frame_set_1['price'], '.',\n",
    "         frame_set_1['power_1'], frame_set_1_model.predict(frame_set_1[frame_set_1_features]), '-')\n",
    "\n",
    "(frame_set_1_model.intercept_, frame_set_1_model.coef_)"
   ]
  },
  {
   "cell_type": "code",
   "execution_count": 9,
   "metadata": {
    "scrolled": false
   },
   "outputs": [
    {
     "data": {
      "text/plain": [
       "(-376135740.9659112,\n",
       " array([ 1.99955667e+05, -2.84222566e-34,  5.72204176e-29, -2.48366026e-24,\n",
       "        -3.19106903e-20, -8.23326828e-19,  1.20566329e-15, -1.93520273e-18,\n",
       "         1.17180537e-21, -3.75216572e-25,  7.16528204e-29, -8.48706057e-33,\n",
       "         6.13766438e-37, -2.48753724e-41,  4.33555592e-46]))"
      ]
     },
     "execution_count": 9,
     "metadata": {},
     "output_type": "execute_result"
    },
    {
     "data": {
      "image/png": "[encoded data removed]",
      "text/plain": [
       "<Figure size 432x288 with 1 Axes>"
      ]
     },
     "metadata": {
      "needs_background": "light"
     },
     "output_type": "display_data"
    }
   ],
   "source": [
    "frame_set_2 = polynomial_frame(set_2['sqft_living'], 15)\n",
    "frame_set_2_features = frame_set_2.columns.values\n",
    "frame_set_2['price'] = set_2['price']\n",
    "\n",
    "frame_set_2_model = linear_model.Ridge(l2_small_penalty)\n",
    "frame_set_2_model.fit(frame_set_2[frame_set_1_features], frame_set_2['price'])\n",
    "\n",
    "plt.plot(frame_set_2['power_1'], frame_set_2['price'], '.',\n",
    "         frame_set_2['power_1'], frame_set_2_model.predict(frame_set_2[frame_set_2_features]), '-')\n",
    "\n",
    "(frame_set_2_model.intercept_, frame_set_2_model.coef_)"
   ]
  },
  {
   "cell_type": "code",
   "execution_count": 10,
   "metadata": {},
   "outputs": [
    {
     "data": {
      "text/plain": [
       "(2176188735.540233,\n",
       " array([-1.56059805e+06, -1.87246069e-34, -3.18779689e-28,  2.15481751e-23,\n",
       "         9.55134265e-19, -4.16068252e-18,  8.55725841e-15,  5.20373886e-19,\n",
       "        -4.03250378e-21,  1.89892333e-24, -4.22997433e-28,  5.30881667e-32,\n",
       "        -3.81015399e-36,  1.42694276e-40, -2.04846775e-45]))"
      ]
     },
     "execution_count": 10,
     "metadata": {},
     "output_type": "execute_result"
    },
    {
     "data": {
      "image/png": "[encoded data removed]",
      "text/plain": [
       "<Figure size 432x288 with 1 Axes>"
      ]
     },
     "metadata": {
      "needs_background": "light"
     },
     "output_type": "display_data"
    }
   ],
   "source": [
    "frame_set_3 = polynomial_frame(set_3['sqft_living'], 15)\n",
    "frame_set_3_features = frame_set_3.columns.values\n",
    "frame_set_3['price'] = set_3['price']\n",
    "\n",
    "frame_set_3_model = linear_model.Ridge(l2_small_penalty)\n",
    "frame_set_3_model.fit(frame_set_3[frame_set_3_features], frame_set_3['price'])\n",
    "\n",
    "plt.plot(frame_set_3['power_1'], frame_set_3['price'], '.',\n",
    "         frame_set_3['power_1'], frame_set_3_model.predict(frame_set_3[frame_set_3_features]), '-')\n",
    "\n",
    "(frame_set_3_model.intercept_, frame_set_3_model.coef_)"
   ]
  },
  {
   "cell_type": "code",
   "execution_count": 11,
   "metadata": {
    "scrolled": true
   },
   "outputs": [
    {
     "data": {
      "text/plain": [
       "(-12286533491.127983,\n",
       " array([ 7.40648573e+06, -6.80596364e-33,  9.91933249e-28, -3.90725619e-23,\n",
       "         1.30464627e-19, -1.82651115e-18, -1.70204014e-14,  2.93627766e-18,\n",
       "         3.14414957e-21, -1.55021822e-24,  3.21833503e-28, -3.80265478e-32,\n",
       "         2.77626662e-36, -1.22622172e-40,  2.57812926e-45]))"
      ]
     },
     "execution_count": 11,
     "metadata": {},
     "output_type": "execute_result"
    },
    {
     "data": {
      "image/png": "[encoded data removed]",
      "text/plain": [
       "<Figure size 432x288 with 1 Axes>"
      ]
     },
     "metadata": {
      "needs_background": "light"
     },
     "output_type": "display_data"
    }
   ],
   "source": [
    "frame_set_4 = polynomial_frame(set_4['sqft_living'], 15)\n",
    "frame_set_4_features = frame_set_4.columns.values\n",
    "frame_set_4['price'] = set_4['price']\n",
    "\n",
    "frame_set_4_model = linear_model.Ridge(l2_small_penalty)\n",
    "frame_set_4_model.fit(frame_set_4[frame_set_4_features], frame_set_4['price'])\n",
    "\n",
    "plt.plot(frame_set_4['power_1'], frame_set_4['price'], '.',\n",
    "         frame_set_4['power_1'], frame_set_4_model.predict(frame_set_4[frame_set_4_features]), '-')\n",
    "\n",
    "(frame_set_4_model.intercept_, frame_set_4_model.coef_)"
   ]
  },
  {
   "cell_type": "markdown",
   "metadata": {},
   "source": [
    "The four curves should differ from one another a lot, as should the coefficients you learned."
   ]
  },
  {
   "cell_type": "markdown",
   "metadata": {},
   "source": [
    "# Ridge regression comes to rescue"
   ]
  },
  {
   "cell_type": "markdown",
   "metadata": {},
   "source": [
    "Generally, whenever we see weights change so much in response to change in data, we believe the variance of our estimate to be large. Ridge regression aims to address this issue by penalizing \"large\" weights. (Weights of `model15` looked quite small, but they are not that small because 'sqft_living' input is in the order of thousands.)\n",
    "\n",
    "With the argument `l2_penalty=1e5`, fit a 15th-order polynomial model on `set_1`, `set_2`, `set_3`, and `set_4`. Other than the change in the `l2_penalty` parameter, the code should be the same as the experiment above."
   ]
  },
  {
   "cell_type": "code",
   "execution_count": 12,
   "metadata": {},
   "outputs": [],
   "source": [
    "l2_penalty = 1e5"
   ]
  },
  {
   "cell_type": "code",
   "execution_count": 13,
   "metadata": {
    "scrolled": false
   },
   "outputs": [
    {
     "data": {
      "text/plain": [
       "(24784858.078792218,\n",
       " array([-1.53545174e+01,  2.57314080e-36, -1.38387870e-30, -2.36441400e-26,\n",
       "         2.20045716e-21, -1.84050197e-20,  1.45751657e-17, -1.92681007e-20,\n",
       "        -9.80708149e-25,  2.89418904e-27, -7.72134914e-31,  9.71241393e-35,\n",
       "        -6.64318046e-39,  2.38964333e-43, -3.54840915e-48]))"
      ]
     },
     "execution_count": 13,
     "metadata": {},
     "output_type": "execute_result"
    },
    {
     "data": {
      "image/png": "[encoded data removed]",
      "text/plain": [
       "<Figure size 432x288 with 1 Axes>"
      ]
     },
     "metadata": {
      "needs_background": "light"
     },
     "output_type": "display_data"
    }
   ],
   "source": [
    "frame_set_1 = polynomial_frame(set_1['sqft_living'], 15)\n",
    "frame_set_1_features = frame_set_1.columns.values\n",
    "frame_set_1['price'] = set_1['price']\n",
    "\n",
    "frame_set_1_model = linear_model.Ridge(l2_penalty)\n",
    "frame_set_1_model.fit(frame_set_1[frame_set_1_features], frame_set_1['price'])\n",
    "\n",
    "plt.plot(frame_set_1['power_1'], frame_set_1['price'], '.',\n",
    "         frame_set_1['power_1'], frame_set_1_model.predict(frame_set_1[frame_set_1_features]), '-')\n",
    "\n",
    "(frame_set_1_model.intercept_, frame_set_1_model.coef_)"
   ]
  },
  {
   "cell_type": "code",
   "execution_count": 14,
   "metadata": {
    "scrolled": false
   },
   "outputs": [
    {
     "data": {
      "text/plain": [
       "(16541900.105635365,\n",
       " array([ 3.38866003e+01,  5.58210480e-35,  1.31091285e-29, -2.62999983e-25,\n",
       "        -1.79942726e-21,  2.76575951e-19,  1.09506347e-16, -3.46421650e-19,\n",
       "         2.56739061e-22, -9.09581555e-26,  1.85240322e-29, -2.29768649e-33,\n",
       "         1.71717936e-37, -7.09306425e-42,  1.23788631e-46]))"
      ]
     },
     "execution_count": 14,
     "metadata": {},
     "output_type": "execute_result"
    },
    {
     "data": {
      "image/png": "[encoded data removed]",
      "text/plain": [
       "<Figure size 432x288 with 1 Axes>"
      ]
     },
     "metadata": {
      "needs_background": "light"
     },
     "output_type": "display_data"
    }
   ],
   "source": [
    "frame_set_2 = polynomial_frame(set_2['sqft_living'], 15)\n",
    "frame_set_2_features = frame_set_2.columns.values\n",
    "frame_set_2['price'] = set_2['price']\n",
    "\n",
    "frame_set_2_model = linear_model.Ridge(l2_penalty)\n",
    "frame_set_2_model.fit(frame_set_2[frame_set_1_features], frame_set_2['price'])\n",
    "\n",
    "plt.plot(frame_set_2['power_1'], frame_set_2['price'], '.',\n",
    "         frame_set_2['power_1'], frame_set_2_model.predict(frame_set_2[frame_set_2_features]), '-')\n",
    "\n",
    "(frame_set_2_model.intercept_, frame_set_2_model.coef_)"
   ]
  },
  {
   "cell_type": "code",
   "execution_count": 15,
   "metadata": {},
   "outputs": [
    {
     "data": {
      "text/plain": [
       "(1870778.1478761246,\n",
       " array([-1.29550842e+01,  1.04965496e-34, -5.88696045e-30, -2.14619309e-25,\n",
       "         3.09302670e-20,  4.88953188e-19, -8.05826638e-16,  1.00038375e-18,\n",
       "        -5.48729983e-22,  1.75955991e-25, -3.62005786e-29,  4.87386084e-33,\n",
       "        -4.16164115e-37,  2.04380750e-41, -4.38865987e-46]))"
      ]
     },
     "execution_count": 15,
     "metadata": {},
     "output_type": "execute_result"
    },
    {
     "data": {
      "image/png": "[encoded data removed]",
      "text/plain": [
       "<Figure size 432x288 with 1 Axes>"
      ]
     },
     "metadata": {
      "needs_background": "light"
     },
     "output_type": "display_data"
    }
   ],
   "source": [
    "frame_set_3 = polynomial_frame(set_3['sqft_living'], 15)\n",
    "frame_set_3_features = frame_set_3.columns.values\n",
    "frame_set_3['price'] = set_3['price']\n",
    "\n",
    "frame_set_3_model = linear_model.Ridge(l2_penalty)\n",
    "frame_set_3_model.fit(frame_set_3[frame_set_3_features], frame_set_3['price'])\n",
    "\n",
    "plt.plot(frame_set_3['power_1'], frame_set_3['price'], '.',\n",
    "         frame_set_3['power_1'], frame_set_3_model.predict(frame_set_3[frame_set_3_features]), '-')\n",
    "\n",
    "(frame_set_3_model.intercept_, frame_set_3_model.coef_)"
   ]
  },
  {
   "cell_type": "code",
   "execution_count": 16,
   "metadata": {},
   "outputs": [
    {
     "data": {
      "text/plain": [
       "(1389487.4770848912,\n",
       " array([ 1.45596774e-01,  5.86208571e-36, -5.04043510e-31,  5.30540026e-26,\n",
       "         6.77168171e-21, -3.21233140e-20,  2.07745616e-16, -2.99951638e-19,\n",
       "         1.80694142e-22, -6.01924063e-26,  1.22383757e-29, -1.56597044e-33,\n",
       "         1.23879645e-37, -5.56762963e-42,  1.09252290e-46]))"
      ]
     },
     "execution_count": 16,
     "metadata": {},
     "output_type": "execute_result"
    },
    {
     "data": {
      "image/png": "[encoded data removed]",
      "text/plain": [
       "<Figure size 432x288 with 1 Axes>"
      ]
     },
     "metadata": {
      "needs_background": "light"
     },
     "output_type": "display_data"
    }
   ],
   "source": [
    "frame_set_4 = polynomial_frame(set_4['sqft_living'], 15)\n",
    "frame_set_4_features = frame_set_4.columns.values\n",
    "frame_set_4['price'] = set_4['price']\n",
    "\n",
    "frame_set_4_model = linear_model.Ridge(l2_penalty)\n",
    "frame_set_4_model.fit(frame_set_4[frame_set_4_features], frame_set_4['price'])\n",
    "\n",
    "plt.plot(frame_set_4['power_1'], frame_set_4['price'], '.',\n",
    "         frame_set_4['power_1'], frame_set_4_model.predict(frame_set_4[frame_set_4_features]), '-')\n",
    "\n",
    "(frame_set_4_model.intercept_, frame_set_4_model.coef_)"
   ]
  },
  {
   "cell_type": "markdown",
   "metadata": {},
   "source": [
    "These curves should vary a lot less, now that you applied a high degree of regularization."
   ]
  },
  {
   "cell_type": "markdown",
   "metadata": {},
   "source": [
    "# Selecting an L2 penalty via cross-validation"
   ]
  },
  {
   "cell_type": "markdown",
   "metadata": {},
   "source": [
    "Just like the polynomial degree, the L2 penalty is a \"magic\" parameter we need to select. We could use the validation set approach as we did in the last module, but that approach has a major disadvantage: it leaves fewer observations available for training. **Cross-validation** seeks to overcome this issue by using all of the training set in a smart way.\n",
    "\n",
    "We will implement a kind of cross-validation called **k-fold cross-validation**. The method gets its name because it involves dividing the training set into k segments of roughtly equal size. Similar to the validation set method, we measure the validation error with one of the segments designated as the validation set. The major difference is that we repeat the process k times as follows:\n",
    "\n",
    "Set aside segment 0 as the validation set, and fit a model on rest of data, and evalutate it on this validation set<br>\n",
    "Set aside segment 1 as the validation set, and fit a model on rest of data, and evalutate it on this validation set<br>\n",
    "...<br>\n",
    "Set aside segment k-1 as the validation set, and fit a model on rest of data, and evalutate it on this validation set\n",
    "\n",
    "After this process, we compute the average of the k validation errors, and use it as an estimate of the generalization error. Notice that  all observations are used for both training and validation, as we iterate over segments of data. \n",
    "\n",
    "To estimate the generalization error well, it is crucial to shuffle the training data before dividing them into segments."
   ]
  },
  {
   "cell_type": "code",
   "execution_count": 34,
   "metadata": {},
   "outputs": [],
   "source": [
    "# https://stackoverflow.com/questions/29576430/shuffle-dataframe-rows\n",
    "# This code randomly samples all rows in the dataframe (frac=1 indicates\n",
    "# all rows). We want to reset the indices of the dataframes to the new\n",
    "# ordering of the rows.\n",
    "train_valid_shuffled = sales.sample(frac=1).reset_index(drop=True)"
   ]
  },
  {
   "cell_type": "markdown",
   "metadata": {},
   "source": [
    "Once the data is shuffled, we divide it into equal segments. Each segment should receive `n/k` elements, where `n` is the number of observations in the training set and `k` is the number of segments. Since the segment 0 starts at index 0 and contains `n/k` elements, it ends at index `(n/k)-1`. The segment 1 starts where the segment 0 left off, at index `(n/k)`. With `n/k` elements, the segment 1 ends at index `(n*2/k)-1`. Continuing in this fashion, we deduce that the segment `i` starts at index `(n*i/k)` and ends at `(n*(i+1)/k)-1`."
   ]
  },
  {
   "cell_type": "markdown",
   "metadata": {},
   "source": [
    "With this pattern in mind, we write a short loop that prints the starting and ending indices of each segment, just to make sure you are getting the splits right."
   ]
  },
  {
   "cell_type": "code",
   "execution_count": 36,
   "metadata": {},
   "outputs": [
    {
     "name": "stdout",
     "output_type": "stream",
     "text": [
      "0 (0.0, 2160.3)\n",
      "1 (2161.3, 4321.6)\n",
      "2 (4322.6, 6482.9)\n",
      "3 (6483.9, 8644.2)\n",
      "4 (8645.2, 10805.5)\n",
      "5 (10806.5, 12966.8)\n",
      "6 (12967.8, 15128.1)\n",
      "7 (15129.1, 17289.4)\n",
      "8 (17290.4, 19450.7)\n",
      "9 (19451.7, 21612.0)\n"
     ]
    }
   ],
   "source": [
    "n = len(train_valid_shuffled)\n",
    "k = 10 # 10-fold cross-validation\n",
    "\n",
    "for i in range(0, k):\n",
    "    start = (n*i)/k\n",
    "    end = (n*(i+1))/k-1\n",
    "    print(i, (start, end))"
   ]
  },
  {
   "cell_type": "markdown",
   "metadata": {},
   "source": [
    "Let us familiarize ourselves with array slicing."
   ]
  },
  {
   "cell_type": "code",
   "execution_count": 42,
   "metadata": {},
   "outputs": [
    {
     "data": {
      "text/html": [
       "<div>\n",
       "<style scoped>\n",
       "    .dataframe tbody tr th:only-of-type {\n",
       "        vertical-align: middle;\n",
       "    }\n",
       "\n",
       "    .dataframe tbody tr th {\n",
       "        vertical-align: top;\n",
       "    }\n",
       "\n",
       "    .dataframe thead th {\n",
       "        text-align: right;\n",
       "    }\n",
       "</style>\n",
       "<table border=\"1\" class=\"dataframe\">\n",
       "  <thead>\n",
       "    <tr style=\"text-align: right;\">\n",
       "      <th></th>\n",
       "      <th>id</th>\n",
       "      <th>date</th>\n",
       "      <th>price</th>\n",
       "      <th>bedrooms</th>\n",
       "      <th>bathrooms</th>\n",
       "      <th>sqft_living</th>\n",
       "      <th>sqft_lot</th>\n",
       "      <th>floors</th>\n",
       "      <th>waterfront</th>\n",
       "      <th>view</th>\n",
       "      <th>...</th>\n",
       "      <th>grade</th>\n",
       "      <th>sqft_above</th>\n",
       "      <th>sqft_basement</th>\n",
       "      <th>yr_built</th>\n",
       "      <th>yr_renovated</th>\n",
       "      <th>zipcode</th>\n",
       "      <th>lat</th>\n",
       "      <th>long</th>\n",
       "      <th>sqft_living15</th>\n",
       "      <th>sqft_lot15</th>\n",
       "    </tr>\n",
       "  </thead>\n",
       "  <tbody>\n",
       "    <tr>\n",
       "      <th>0</th>\n",
       "      <td>2545700020</td>\n",
       "      <td>20141016T000000</td>\n",
       "      <td>458500.0</td>\n",
       "      <td>2</td>\n",
       "      <td>1.75</td>\n",
       "      <td>1160</td>\n",
       "      <td>6828</td>\n",
       "      <td>1.0</td>\n",
       "      <td>0</td>\n",
       "      <td>0</td>\n",
       "      <td>...</td>\n",
       "      <td>7</td>\n",
       "      <td>860</td>\n",
       "      <td>300</td>\n",
       "      <td>1941</td>\n",
       "      <td>0</td>\n",
       "      <td>98115</td>\n",
       "      <td>47.6937</td>\n",
       "      <td>-122.298</td>\n",
       "      <td>1250</td>\n",
       "      <td>6828</td>\n",
       "    </tr>\n",
       "    <tr>\n",
       "      <th>1</th>\n",
       "      <td>8647800150</td>\n",
       "      <td>20150102T000000</td>\n",
       "      <td>273000.0</td>\n",
       "      <td>3</td>\n",
       "      <td>2.25</td>\n",
       "      <td>2160</td>\n",
       "      <td>7964</td>\n",
       "      <td>2.0</td>\n",
       "      <td>0</td>\n",
       "      <td>0</td>\n",
       "      <td>...</td>\n",
       "      <td>8</td>\n",
       "      <td>2160</td>\n",
       "      <td>0</td>\n",
       "      <td>1991</td>\n",
       "      <td>0</td>\n",
       "      <td>98042</td>\n",
       "      <td>47.3622</td>\n",
       "      <td>-122.074</td>\n",
       "      <td>2000</td>\n",
       "      <td>7964</td>\n",
       "    </tr>\n",
       "    <tr>\n",
       "      <th>2</th>\n",
       "      <td>7764200030</td>\n",
       "      <td>20140716T000000</td>\n",
       "      <td>515000.0</td>\n",
       "      <td>3</td>\n",
       "      <td>2.50</td>\n",
       "      <td>2360</td>\n",
       "      <td>11254</td>\n",
       "      <td>1.0</td>\n",
       "      <td>0</td>\n",
       "      <td>2</td>\n",
       "      <td>...</td>\n",
       "      <td>9</td>\n",
       "      <td>2360</td>\n",
       "      <td>0</td>\n",
       "      <td>1990</td>\n",
       "      <td>0</td>\n",
       "      <td>98003</td>\n",
       "      <td>47.3356</td>\n",
       "      <td>-122.333</td>\n",
       "      <td>2390</td>\n",
       "      <td>11254</td>\n",
       "    </tr>\n",
       "    <tr>\n",
       "      <th>3</th>\n",
       "      <td>2422049104</td>\n",
       "      <td>20140915T000000</td>\n",
       "      <td>85000.0</td>\n",
       "      <td>2</td>\n",
       "      <td>1.00</td>\n",
       "      <td>830</td>\n",
       "      <td>9000</td>\n",
       "      <td>1.0</td>\n",
       "      <td>0</td>\n",
       "      <td>0</td>\n",
       "      <td>...</td>\n",
       "      <td>6</td>\n",
       "      <td>830</td>\n",
       "      <td>0</td>\n",
       "      <td>1939</td>\n",
       "      <td>0</td>\n",
       "      <td>98032</td>\n",
       "      <td>47.3813</td>\n",
       "      <td>-122.243</td>\n",
       "      <td>1160</td>\n",
       "      <td>7680</td>\n",
       "    </tr>\n",
       "    <tr>\n",
       "      <th>4</th>\n",
       "      <td>6141100380</td>\n",
       "      <td>20140515T000000</td>\n",
       "      <td>465000.0</td>\n",
       "      <td>3</td>\n",
       "      <td>1.75</td>\n",
       "      <td>1410</td>\n",
       "      <td>6886</td>\n",
       "      <td>1.0</td>\n",
       "      <td>0</td>\n",
       "      <td>0</td>\n",
       "      <td>...</td>\n",
       "      <td>7</td>\n",
       "      <td>1410</td>\n",
       "      <td>0</td>\n",
       "      <td>1924</td>\n",
       "      <td>2013</td>\n",
       "      <td>98133</td>\n",
       "      <td>47.7183</td>\n",
       "      <td>-122.353</td>\n",
       "      <td>1410</td>\n",
       "      <td>6561</td>\n",
       "    </tr>\n",
       "    <tr>\n",
       "      <th>5</th>\n",
       "      <td>7967000200</td>\n",
       "      <td>20141121T000000</td>\n",
       "      <td>345500.0</td>\n",
       "      <td>3</td>\n",
       "      <td>2.50</td>\n",
       "      <td>1930</td>\n",
       "      <td>4000</td>\n",
       "      <td>2.0</td>\n",
       "      <td>0</td>\n",
       "      <td>0</td>\n",
       "      <td>...</td>\n",
       "      <td>8</td>\n",
       "      <td>1930</td>\n",
       "      <td>0</td>\n",
       "      <td>2014</td>\n",
       "      <td>0</td>\n",
       "      <td>98001</td>\n",
       "      <td>47.3518</td>\n",
       "      <td>-122.275</td>\n",
       "      <td>2050</td>\n",
       "      <td>4000</td>\n",
       "    </tr>\n",
       "    <tr>\n",
       "      <th>6</th>\n",
       "      <td>7309100270</td>\n",
       "      <td>20140626T000000</td>\n",
       "      <td>580000.0</td>\n",
       "      <td>4</td>\n",
       "      <td>1.75</td>\n",
       "      <td>1720</td>\n",
       "      <td>6975</td>\n",
       "      <td>1.0</td>\n",
       "      <td>0</td>\n",
       "      <td>0</td>\n",
       "      <td>...</td>\n",
       "      <td>8</td>\n",
       "      <td>1420</td>\n",
       "      <td>300</td>\n",
       "      <td>1975</td>\n",
       "      <td>0</td>\n",
       "      <td>98052</td>\n",
       "      <td>47.6506</td>\n",
       "      <td>-122.121</td>\n",
       "      <td>2210</td>\n",
       "      <td>7875</td>\n",
       "    </tr>\n",
       "    <tr>\n",
       "      <th>7</th>\n",
       "      <td>3449800290</td>\n",
       "      <td>20150406T000000</td>\n",
       "      <td>641000.0</td>\n",
       "      <td>5</td>\n",
       "      <td>2.75</td>\n",
       "      <td>3710</td>\n",
       "      <td>8674</td>\n",
       "      <td>2.0</td>\n",
       "      <td>0</td>\n",
       "      <td>0</td>\n",
       "      <td>...</td>\n",
       "      <td>9</td>\n",
       "      <td>3710</td>\n",
       "      <td>0</td>\n",
       "      <td>1996</td>\n",
       "      <td>0</td>\n",
       "      <td>98056</td>\n",
       "      <td>47.5140</td>\n",
       "      <td>-122.176</td>\n",
       "      <td>3250</td>\n",
       "      <td>8678</td>\n",
       "    </tr>\n",
       "    <tr>\n",
       "      <th>8</th>\n",
       "      <td>2926069083</td>\n",
       "      <td>20140507T000000</td>\n",
       "      <td>900000.0</td>\n",
       "      <td>5</td>\n",
       "      <td>3.75</td>\n",
       "      <td>4130</td>\n",
       "      <td>226076</td>\n",
       "      <td>2.0</td>\n",
       "      <td>0</td>\n",
       "      <td>0</td>\n",
       "      <td>...</td>\n",
       "      <td>9</td>\n",
       "      <td>3170</td>\n",
       "      <td>960</td>\n",
       "      <td>1985</td>\n",
       "      <td>0</td>\n",
       "      <td>98077</td>\n",
       "      <td>47.7150</td>\n",
       "      <td>-122.065</td>\n",
       "      <td>4130</td>\n",
       "      <td>55321</td>\n",
       "    </tr>\n",
       "    <tr>\n",
       "      <th>9</th>\n",
       "      <td>5119010090</td>\n",
       "      <td>20140510T000000</td>\n",
       "      <td>549900.0</td>\n",
       "      <td>5</td>\n",
       "      <td>2.75</td>\n",
       "      <td>3060</td>\n",
       "      <td>7015</td>\n",
       "      <td>1.0</td>\n",
       "      <td>0</td>\n",
       "      <td>0</td>\n",
       "      <td>...</td>\n",
       "      <td>8</td>\n",
       "      <td>1600</td>\n",
       "      <td>1460</td>\n",
       "      <td>1979</td>\n",
       "      <td>0</td>\n",
       "      <td>98146</td>\n",
       "      <td>47.5052</td>\n",
       "      <td>-122.372</td>\n",
       "      <td>2190</td>\n",
       "      <td>7600</td>\n",
       "    </tr>\n",
       "  </tbody>\n",
       "</table>\n",
       "<p>10 rows × 21 columns</p>\n",
       "</div>"
      ],
      "text/plain": [
       "           id             date     price  bedrooms  bathrooms  sqft_living  \\\n",
       "0  2545700020  20141016T000000  458500.0         2       1.75         1160   \n",
       "1  8647800150  20150102T000000  273000.0         3       2.25         2160   \n",
       "2  7764200030  20140716T000000  515000.0         3       2.50         2360   \n",
       "3  2422049104  20140915T000000   85000.0         2       1.00          830   \n",
       "4  6141100380  20140515T000000  465000.0         3       1.75         1410   \n",
       "5  7967000200  20141121T000000  345500.0         3       2.50         1930   \n",
       "6  7309100270  20140626T000000  580000.0         4       1.75         1720   \n",
       "7  3449800290  20150406T000000  641000.0         5       2.75         3710   \n",
       "8  2926069083  20140507T000000  900000.0         5       3.75         4130   \n",
       "9  5119010090  20140510T000000  549900.0         5       2.75         3060   \n",
       "\n",
       "   sqft_lot  floors  waterfront  view     ...      grade  sqft_above  \\\n",
       "0      6828     1.0           0     0     ...          7         860   \n",
       "1      7964     2.0           0     0     ...          8        2160   \n",
       "2     11254     1.0           0     2     ...          9        2360   \n",
       "3      9000     1.0           0     0     ...          6         830   \n",
       "4      6886     1.0           0     0     ...          7        1410   \n",
       "5      4000     2.0           0     0     ...          8        1930   \n",
       "6      6975     1.0           0     0     ...          8        1420   \n",
       "7      8674     2.0           0     0     ...          9        3710   \n",
       "8    226076     2.0           0     0     ...          9        3170   \n",
       "9      7015     1.0           0     0     ...          8        1600   \n",
       "\n",
       "   sqft_basement  yr_built  yr_renovated  zipcode      lat     long  \\\n",
       "0            300      1941             0    98115  47.6937 -122.298   \n",
       "1              0      1991             0    98042  47.3622 -122.074   \n",
       "2              0      1990             0    98003  47.3356 -122.333   \n",
       "3              0      1939             0    98032  47.3813 -122.243   \n",
       "4              0      1924          2013    98133  47.7183 -122.353   \n",
       "5              0      2014             0    98001  47.3518 -122.275   \n",
       "6            300      1975             0    98052  47.6506 -122.121   \n",
       "7              0      1996             0    98056  47.5140 -122.176   \n",
       "8            960      1985             0    98077  47.7150 -122.065   \n",
       "9           1460      1979             0    98146  47.5052 -122.372   \n",
       "\n",
       "   sqft_living15  sqft_lot15  \n",
       "0           1250        6828  \n",
       "1           2000        7964  \n",
       "2           2390       11254  \n",
       "3           1160        7680  \n",
       "4           1410        6561  \n",
       "5           2050        4000  \n",
       "6           2210        7875  \n",
       "7           3250        8678  \n",
       "8           4130       55321  \n",
       "9           2190        7600  \n",
       "\n",
       "[10 rows x 21 columns]"
      ]
     },
     "execution_count": 42,
     "metadata": {},
     "output_type": "execute_result"
    }
   ],
   "source": [
    "train_valid_shuffled.loc[0:9] # rows 0 to 9, noting that slicing is inclusive."
   ]
  },
  {
   "cell_type": "code",
   "execution_count": 43,
   "metadata": {},
   "outputs": [
    {
     "data": {
      "text/html": [
       "<div>\n",
       "<style scoped>\n",
       "    .dataframe tbody tr th:only-of-type {\n",
       "        vertical-align: middle;\n",
       "    }\n",
       "\n",
       "    .dataframe tbody tr th {\n",
       "        vertical-align: top;\n",
       "    }\n",
       "\n",
       "    .dataframe thead th {\n",
       "        text-align: right;\n",
       "    }\n",
       "</style>\n",
       "<table border=\"1\" class=\"dataframe\">\n",
       "  <thead>\n",
       "    <tr style=\"text-align: right;\">\n",
       "      <th></th>\n",
       "      <th>id</th>\n",
       "      <th>date</th>\n",
       "      <th>price</th>\n",
       "      <th>bedrooms</th>\n",
       "      <th>bathrooms</th>\n",
       "      <th>sqft_living</th>\n",
       "      <th>sqft_lot</th>\n",
       "      <th>floors</th>\n",
       "      <th>waterfront</th>\n",
       "      <th>view</th>\n",
       "      <th>...</th>\n",
       "      <th>grade</th>\n",
       "      <th>sqft_above</th>\n",
       "      <th>sqft_basement</th>\n",
       "      <th>yr_built</th>\n",
       "      <th>yr_renovated</th>\n",
       "      <th>zipcode</th>\n",
       "      <th>lat</th>\n",
       "      <th>long</th>\n",
       "      <th>sqft_living15</th>\n",
       "      <th>sqft_lot15</th>\n",
       "    </tr>\n",
       "  </thead>\n",
       "  <tbody>\n",
       "    <tr>\n",
       "      <th>0</th>\n",
       "      <td>2545700020</td>\n",
       "      <td>20141016T000000</td>\n",
       "      <td>458500.0</td>\n",
       "      <td>2</td>\n",
       "      <td>1.75</td>\n",
       "      <td>1160</td>\n",
       "      <td>6828</td>\n",
       "      <td>1.0</td>\n",
       "      <td>0</td>\n",
       "      <td>0</td>\n",
       "      <td>...</td>\n",
       "      <td>7</td>\n",
       "      <td>860</td>\n",
       "      <td>300</td>\n",
       "      <td>1941</td>\n",
       "      <td>0</td>\n",
       "      <td>98115</td>\n",
       "      <td>47.6937</td>\n",
       "      <td>-122.298</td>\n",
       "      <td>1250</td>\n",
       "      <td>6828</td>\n",
       "    </tr>\n",
       "    <tr>\n",
       "      <th>1</th>\n",
       "      <td>8647800150</td>\n",
       "      <td>20150102T000000</td>\n",
       "      <td>273000.0</td>\n",
       "      <td>3</td>\n",
       "      <td>2.25</td>\n",
       "      <td>2160</td>\n",
       "      <td>7964</td>\n",
       "      <td>2.0</td>\n",
       "      <td>0</td>\n",
       "      <td>0</td>\n",
       "      <td>...</td>\n",
       "      <td>8</td>\n",
       "      <td>2160</td>\n",
       "      <td>0</td>\n",
       "      <td>1991</td>\n",
       "      <td>0</td>\n",
       "      <td>98042</td>\n",
       "      <td>47.3622</td>\n",
       "      <td>-122.074</td>\n",
       "      <td>2000</td>\n",
       "      <td>7964</td>\n",
       "    </tr>\n",
       "  </tbody>\n",
       "</table>\n",
       "<p>2 rows × 21 columns</p>\n",
       "</div>"
      ],
      "text/plain": [
       "           id             date     price  bedrooms  bathrooms  sqft_living  \\\n",
       "0  2545700020  20141016T000000  458500.0         2       1.75         1160   \n",
       "1  8647800150  20150102T000000  273000.0         3       2.25         2160   \n",
       "\n",
       "   sqft_lot  floors  waterfront  view     ...      grade  sqft_above  \\\n",
       "0      6828     1.0           0     0     ...          7         860   \n",
       "1      7964     2.0           0     0     ...          8        2160   \n",
       "\n",
       "   sqft_basement  yr_built  yr_renovated  zipcode      lat     long  \\\n",
       "0            300      1941             0    98115  47.6937 -122.298   \n",
       "1              0      1991             0    98042  47.3622 -122.074   \n",
       "\n",
       "   sqft_living15  sqft_lot15  \n",
       "0           1250        6828  \n",
       "1           2000        7964  \n",
       "\n",
       "[2 rows x 21 columns]"
      ]
     },
     "execution_count": 43,
     "metadata": {},
     "output_type": "execute_result"
    }
   ],
   "source": [
    "train_valid_shuffled.loc[0:1.1] # fractions of rows at the end "
   ]
  },
  {
   "cell_type": "code",
   "execution_count": 44,
   "metadata": {},
   "outputs": [
    {
     "data": {
      "text/html": [
       "<div>\n",
       "<style scoped>\n",
       "    .dataframe tbody tr th:only-of-type {\n",
       "        vertical-align: middle;\n",
       "    }\n",
       "\n",
       "    .dataframe tbody tr th {\n",
       "        vertical-align: top;\n",
       "    }\n",
       "\n",
       "    .dataframe thead th {\n",
       "        text-align: right;\n",
       "    }\n",
       "</style>\n",
       "<table border=\"1\" class=\"dataframe\">\n",
       "  <thead>\n",
       "    <tr style=\"text-align: right;\">\n",
       "      <th></th>\n",
       "      <th>id</th>\n",
       "      <th>date</th>\n",
       "      <th>price</th>\n",
       "      <th>bedrooms</th>\n",
       "      <th>bathrooms</th>\n",
       "      <th>sqft_living</th>\n",
       "      <th>sqft_lot</th>\n",
       "      <th>floors</th>\n",
       "      <th>waterfront</th>\n",
       "      <th>view</th>\n",
       "      <th>...</th>\n",
       "      <th>grade</th>\n",
       "      <th>sqft_above</th>\n",
       "      <th>sqft_basement</th>\n",
       "      <th>yr_built</th>\n",
       "      <th>yr_renovated</th>\n",
       "      <th>zipcode</th>\n",
       "      <th>lat</th>\n",
       "      <th>long</th>\n",
       "      <th>sqft_living15</th>\n",
       "      <th>sqft_lot15</th>\n",
       "    </tr>\n",
       "  </thead>\n",
       "  <tbody>\n",
       "    <tr>\n",
       "      <th>1</th>\n",
       "      <td>8647800150</td>\n",
       "      <td>20150102T000000</td>\n",
       "      <td>273000.0</td>\n",
       "      <td>3</td>\n",
       "      <td>2.25</td>\n",
       "      <td>2160</td>\n",
       "      <td>7964</td>\n",
       "      <td>2.0</td>\n",
       "      <td>0</td>\n",
       "      <td>0</td>\n",
       "      <td>...</td>\n",
       "      <td>8</td>\n",
       "      <td>2160</td>\n",
       "      <td>0</td>\n",
       "      <td>1991</td>\n",
       "      <td>0</td>\n",
       "      <td>98042</td>\n",
       "      <td>47.3622</td>\n",
       "      <td>-122.074</td>\n",
       "      <td>2000</td>\n",
       "      <td>7964</td>\n",
       "    </tr>\n",
       "  </tbody>\n",
       "</table>\n",
       "<p>1 rows × 21 columns</p>\n",
       "</div>"
      ],
      "text/plain": [
       "           id             date     price  bedrooms  bathrooms  sqft_living  \\\n",
       "1  8647800150  20150102T000000  273000.0         3       2.25         2160   \n",
       "\n",
       "   sqft_lot  floors  waterfront  view     ...      grade  sqft_above  \\\n",
       "1      7964     2.0           0     0     ...          8        2160   \n",
       "\n",
       "   sqft_basement  yr_built  yr_renovated  zipcode      lat     long  \\\n",
       "1              0      1991             0    98042  47.3622 -122.074   \n",
       "\n",
       "   sqft_living15  sqft_lot15  \n",
       "1           2000        7964  \n",
       "\n",
       "[1 rows x 21 columns]"
      ]
     },
     "execution_count": 44,
     "metadata": {},
     "output_type": "execute_result"
    }
   ],
   "source": [
    "train_valid_shuffled.loc[0.1:1] # fractions of rows at the beginning"
   ]
  },
  {
   "cell_type": "markdown",
   "metadata": {},
   "source": [
    "Now let us extract individual segments with array slicing. Consider the scenario where we group the houses in the `train_valid_shuffled` dataframe into k=10 segments of roughly equal size, with starting and ending indices computed as above.\n",
    "Extract the fourth segment (segment 3) and assign it to a variable called `validation4`."
   ]
  },
  {
   "cell_type": "code",
   "execution_count": 46,
   "metadata": {},
   "outputs": [],
   "source": [
    "segments = []\n",
    "\n",
    "for i in range(0, k):\n",
    "    start = (n*i)/k\n",
    "    end = (n*(i+1))/k-1\n",
    "    \n",
    "    segments.append(train_valid_shuffled.loc[start:end])"
   ]
  },
  {
   "cell_type": "markdown",
   "metadata": {},
   "source": [
    "After designating one of the k segments as the validation set, we train a model using the rest of the data. To choose the remainder, we slice (0:start) and (end+1:n) of the data and paste them together."
   ]
  },
  {
   "cell_type": "code",
   "execution_count": 57,
   "metadata": {},
   "outputs": [],
   "source": [
    "# MERGING 2 DATA FRAMES BY ROWS\n",
    "# https://pandas.pydata.org/pandas-docs/stable/merging.html\n",
    "\n",
    "first = sales.loc[0:1]\n",
    "second = sales.loc[2:3]"
   ]
  },
  {
   "cell_type": "code",
   "execution_count": 52,
   "metadata": {},
   "outputs": [
    {
     "data": {
      "text/html": [
       "<div>\n",
       "<style scoped>\n",
       "    .dataframe tbody tr th:only-of-type {\n",
       "        vertical-align: middle;\n",
       "    }\n",
       "\n",
       "    .dataframe tbody tr th {\n",
       "        vertical-align: top;\n",
       "    }\n",
       "\n",
       "    .dataframe thead th {\n",
       "        text-align: right;\n",
       "    }\n",
       "</style>\n",
       "<table border=\"1\" class=\"dataframe\">\n",
       "  <thead>\n",
       "    <tr style=\"text-align: right;\">\n",
       "      <th></th>\n",
       "      <th>id</th>\n",
       "      <th>date</th>\n",
       "      <th>price</th>\n",
       "      <th>bedrooms</th>\n",
       "      <th>bathrooms</th>\n",
       "      <th>sqft_living</th>\n",
       "      <th>sqft_lot</th>\n",
       "      <th>floors</th>\n",
       "      <th>waterfront</th>\n",
       "      <th>view</th>\n",
       "      <th>...</th>\n",
       "      <th>grade</th>\n",
       "      <th>sqft_above</th>\n",
       "      <th>sqft_basement</th>\n",
       "      <th>yr_built</th>\n",
       "      <th>yr_renovated</th>\n",
       "      <th>zipcode</th>\n",
       "      <th>lat</th>\n",
       "      <th>long</th>\n",
       "      <th>sqft_living15</th>\n",
       "      <th>sqft_lot15</th>\n",
       "    </tr>\n",
       "  </thead>\n",
       "  <tbody>\n",
       "    <tr>\n",
       "      <th>0</th>\n",
       "      <td>9274201730</td>\n",
       "      <td>20140616T000000</td>\n",
       "      <td>825000.0</td>\n",
       "      <td>4</td>\n",
       "      <td>1.50</td>\n",
       "      <td>1890</td>\n",
       "      <td>6938</td>\n",
       "      <td>1.5</td>\n",
       "      <td>0</td>\n",
       "      <td>0</td>\n",
       "      <td>...</td>\n",
       "      <td>8</td>\n",
       "      <td>1890</td>\n",
       "      <td>0</td>\n",
       "      <td>1919</td>\n",
       "      <td>0</td>\n",
       "      <td>98116</td>\n",
       "      <td>47.5896</td>\n",
       "      <td>-122.389</td>\n",
       "      <td>1700</td>\n",
       "      <td>6250</td>\n",
       "    </tr>\n",
       "    <tr>\n",
       "      <th>1</th>\n",
       "      <td>868001402</td>\n",
       "      <td>20150305T000000</td>\n",
       "      <td>1000000.0</td>\n",
       "      <td>4</td>\n",
       "      <td>3.50</td>\n",
       "      <td>3180</td>\n",
       "      <td>12528</td>\n",
       "      <td>2.0</td>\n",
       "      <td>0</td>\n",
       "      <td>1</td>\n",
       "      <td>...</td>\n",
       "      <td>9</td>\n",
       "      <td>2060</td>\n",
       "      <td>1120</td>\n",
       "      <td>1979</td>\n",
       "      <td>0</td>\n",
       "      <td>98177</td>\n",
       "      <td>47.7058</td>\n",
       "      <td>-122.379</td>\n",
       "      <td>2850</td>\n",
       "      <td>11410</td>\n",
       "    </tr>\n",
       "    <tr>\n",
       "      <th>2</th>\n",
       "      <td>4058800875</td>\n",
       "      <td>20140624T000000</td>\n",
       "      <td>343500.0</td>\n",
       "      <td>4</td>\n",
       "      <td>1.75</td>\n",
       "      <td>1760</td>\n",
       "      <td>6204</td>\n",
       "      <td>1.0</td>\n",
       "      <td>0</td>\n",
       "      <td>2</td>\n",
       "      <td>...</td>\n",
       "      <td>7</td>\n",
       "      <td>1180</td>\n",
       "      <td>580</td>\n",
       "      <td>1950</td>\n",
       "      <td>0</td>\n",
       "      <td>98178</td>\n",
       "      <td>47.5045</td>\n",
       "      <td>-122.240</td>\n",
       "      <td>1990</td>\n",
       "      <td>6240</td>\n",
       "    </tr>\n",
       "    <tr>\n",
       "      <th>3</th>\n",
       "      <td>1324300091</td>\n",
       "      <td>20140528T000000</td>\n",
       "      <td>370000.0</td>\n",
       "      <td>3</td>\n",
       "      <td>1.00</td>\n",
       "      <td>800</td>\n",
       "      <td>2296</td>\n",
       "      <td>1.0</td>\n",
       "      <td>0</td>\n",
       "      <td>0</td>\n",
       "      <td>...</td>\n",
       "      <td>6</td>\n",
       "      <td>800</td>\n",
       "      <td>0</td>\n",
       "      <td>1908</td>\n",
       "      <td>0</td>\n",
       "      <td>98103</td>\n",
       "      <td>47.6546</td>\n",
       "      <td>-122.356</td>\n",
       "      <td>1480</td>\n",
       "      <td>1472</td>\n",
       "    </tr>\n",
       "  </tbody>\n",
       "</table>\n",
       "<p>4 rows × 21 columns</p>\n",
       "</div>"
      ],
      "text/plain": [
       "           id             date      price  bedrooms  bathrooms  sqft_living  \\\n",
       "0  9274201730  20140616T000000   825000.0         4       1.50         1890   \n",
       "1   868001402  20150305T000000  1000000.0         4       3.50         3180   \n",
       "2  4058800875  20140624T000000   343500.0         4       1.75         1760   \n",
       "3  1324300091  20140528T000000   370000.0         3       1.00          800   \n",
       "\n",
       "   sqft_lot  floors  waterfront  view     ...      grade  sqft_above  \\\n",
       "0      6938     1.5           0     0     ...          8        1890   \n",
       "1     12528     2.0           0     1     ...          9        2060   \n",
       "2      6204     1.0           0     2     ...          7        1180   \n",
       "3      2296     1.0           0     0     ...          6         800   \n",
       "\n",
       "   sqft_basement  yr_built  yr_renovated  zipcode      lat     long  \\\n",
       "0              0      1919             0    98116  47.5896 -122.389   \n",
       "1           1120      1979             0    98177  47.7058 -122.379   \n",
       "2            580      1950             0    98178  47.5045 -122.240   \n",
       "3              0      1908             0    98103  47.6546 -122.356   \n",
       "\n",
       "   sqft_living15  sqft_lot15  \n",
       "0           1700        6250  \n",
       "1           2850       11410  \n",
       "2           1990        6240  \n",
       "3           1480        1472  \n",
       "\n",
       "[4 rows x 21 columns]"
      ]
     },
     "execution_count": 52,
     "metadata": {},
     "output_type": "execute_result"
    }
   ],
   "source": [
    "# Merging and resetting the indexed rows:\n",
    "pd.concat([second, first], axis=0, ignore_index=True)"
   ]
  },
  {
   "cell_type": "code",
   "execution_count": 53,
   "metadata": {},
   "outputs": [
    {
     "data": {
      "text/html": [
       "<div>\n",
       "<style scoped>\n",
       "    .dataframe tbody tr th:only-of-type {\n",
       "        vertical-align: middle;\n",
       "    }\n",
       "\n",
       "    .dataframe tbody tr th {\n",
       "        vertical-align: top;\n",
       "    }\n",
       "\n",
       "    .dataframe thead th {\n",
       "        text-align: right;\n",
       "    }\n",
       "</style>\n",
       "<table border=\"1\" class=\"dataframe\">\n",
       "  <thead>\n",
       "    <tr style=\"text-align: right;\">\n",
       "      <th></th>\n",
       "      <th>id</th>\n",
       "      <th>date</th>\n",
       "      <th>price</th>\n",
       "      <th>bedrooms</th>\n",
       "      <th>bathrooms</th>\n",
       "      <th>sqft_living</th>\n",
       "      <th>sqft_lot</th>\n",
       "      <th>floors</th>\n",
       "      <th>waterfront</th>\n",
       "      <th>view</th>\n",
       "      <th>...</th>\n",
       "      <th>grade</th>\n",
       "      <th>sqft_above</th>\n",
       "      <th>sqft_basement</th>\n",
       "      <th>yr_built</th>\n",
       "      <th>yr_renovated</th>\n",
       "      <th>zipcode</th>\n",
       "      <th>lat</th>\n",
       "      <th>long</th>\n",
       "      <th>sqft_living15</th>\n",
       "      <th>sqft_lot15</th>\n",
       "    </tr>\n",
       "  </thead>\n",
       "  <tbody>\n",
       "    <tr>\n",
       "      <th>2</th>\n",
       "      <td>9274201730</td>\n",
       "      <td>20140616T000000</td>\n",
       "      <td>825000.0</td>\n",
       "      <td>4</td>\n",
       "      <td>1.50</td>\n",
       "      <td>1890</td>\n",
       "      <td>6938</td>\n",
       "      <td>1.5</td>\n",
       "      <td>0</td>\n",
       "      <td>0</td>\n",
       "      <td>...</td>\n",
       "      <td>8</td>\n",
       "      <td>1890</td>\n",
       "      <td>0</td>\n",
       "      <td>1919</td>\n",
       "      <td>0</td>\n",
       "      <td>98116</td>\n",
       "      <td>47.5896</td>\n",
       "      <td>-122.389</td>\n",
       "      <td>1700</td>\n",
       "      <td>6250</td>\n",
       "    </tr>\n",
       "    <tr>\n",
       "      <th>3</th>\n",
       "      <td>868001402</td>\n",
       "      <td>20150305T000000</td>\n",
       "      <td>1000000.0</td>\n",
       "      <td>4</td>\n",
       "      <td>3.50</td>\n",
       "      <td>3180</td>\n",
       "      <td>12528</td>\n",
       "      <td>2.0</td>\n",
       "      <td>0</td>\n",
       "      <td>1</td>\n",
       "      <td>...</td>\n",
       "      <td>9</td>\n",
       "      <td>2060</td>\n",
       "      <td>1120</td>\n",
       "      <td>1979</td>\n",
       "      <td>0</td>\n",
       "      <td>98177</td>\n",
       "      <td>47.7058</td>\n",
       "      <td>-122.379</td>\n",
       "      <td>2850</td>\n",
       "      <td>11410</td>\n",
       "    </tr>\n",
       "    <tr>\n",
       "      <th>0</th>\n",
       "      <td>4058800875</td>\n",
       "      <td>20140624T000000</td>\n",
       "      <td>343500.0</td>\n",
       "      <td>4</td>\n",
       "      <td>1.75</td>\n",
       "      <td>1760</td>\n",
       "      <td>6204</td>\n",
       "      <td>1.0</td>\n",
       "      <td>0</td>\n",
       "      <td>2</td>\n",
       "      <td>...</td>\n",
       "      <td>7</td>\n",
       "      <td>1180</td>\n",
       "      <td>580</td>\n",
       "      <td>1950</td>\n",
       "      <td>0</td>\n",
       "      <td>98178</td>\n",
       "      <td>47.5045</td>\n",
       "      <td>-122.240</td>\n",
       "      <td>1990</td>\n",
       "      <td>6240</td>\n",
       "    </tr>\n",
       "    <tr>\n",
       "      <th>1</th>\n",
       "      <td>1324300091</td>\n",
       "      <td>20140528T000000</td>\n",
       "      <td>370000.0</td>\n",
       "      <td>3</td>\n",
       "      <td>1.00</td>\n",
       "      <td>800</td>\n",
       "      <td>2296</td>\n",
       "      <td>1.0</td>\n",
       "      <td>0</td>\n",
       "      <td>0</td>\n",
       "      <td>...</td>\n",
       "      <td>6</td>\n",
       "      <td>800</td>\n",
       "      <td>0</td>\n",
       "      <td>1908</td>\n",
       "      <td>0</td>\n",
       "      <td>98103</td>\n",
       "      <td>47.6546</td>\n",
       "      <td>-122.356</td>\n",
       "      <td>1480</td>\n",
       "      <td>1472</td>\n",
       "    </tr>\n",
       "  </tbody>\n",
       "</table>\n",
       "<p>4 rows × 21 columns</p>\n",
       "</div>"
      ],
      "text/plain": [
       "           id             date      price  bedrooms  bathrooms  sqft_living  \\\n",
       "2  9274201730  20140616T000000   825000.0         4       1.50         1890   \n",
       "3   868001402  20150305T000000  1000000.0         4       3.50         3180   \n",
       "0  4058800875  20140624T000000   343500.0         4       1.75         1760   \n",
       "1  1324300091  20140528T000000   370000.0         3       1.00          800   \n",
       "\n",
       "   sqft_lot  floors  waterfront  view     ...      grade  sqft_above  \\\n",
       "2      6938     1.5           0     0     ...          8        1890   \n",
       "3     12528     2.0           0     1     ...          9        2060   \n",
       "0      6204     1.0           0     2     ...          7        1180   \n",
       "1      2296     1.0           0     0     ...          6         800   \n",
       "\n",
       "   sqft_basement  yr_built  yr_renovated  zipcode      lat     long  \\\n",
       "2              0      1919             0    98116  47.5896 -122.389   \n",
       "3           1120      1979             0    98177  47.7058 -122.379   \n",
       "0            580      1950             0    98178  47.5045 -122.240   \n",
       "1              0      1908             0    98103  47.6546 -122.356   \n",
       "\n",
       "   sqft_living15  sqft_lot15  \n",
       "2           1700        6250  \n",
       "3           2850       11410  \n",
       "0           1990        6240  \n",
       "1           1480        1472  \n",
       "\n",
       "[4 rows x 21 columns]"
      ]
     },
     "execution_count": 53,
     "metadata": {},
     "output_type": "execute_result"
    }
   ],
   "source": [
    "# Merging and maintaining the existing indices:\n",
    "pd.concat([second, first], axis=0, ignore_index=False)"
   ]
  },
  {
   "cell_type": "markdown",
   "metadata": {},
   "source": [
    "We need to write a function that computes the validation error given the validation data, the model, and the l2 penalty. Remember the validation error is computed using the following formula:\n",
    "\n",
    "$$E(\\textbf{w}) = (\\textbf{y} - H\\textbf{w})^T(\\textbf{y} - H\\textbf{w}) + \\lambda\\textbf{w}^T\\textbf{w}$$\n",
    "\n",
    "lambda is the l2 penalty, and a large lambda results in more penalization of large feature coefficients."
   ]
  },
  {
   "cell_type": "code",
   "execution_count": 81,
   "metadata": {},
   "outputs": [],
   "source": [
    "def compute_error(model, features, output, l2_penalty):\n",
    "    predictions = model.predict(features)\n",
    "    error = output - predictions\n",
    "\n",
    "    rss = np.dot(error, error)\n",
    "    regularization_term = l2_penalty * np.dot(model.coef_, model.coef_)\n",
    "\n",
    "    return rss + regularization_term"
   ]
  },
  {
   "cell_type": "markdown",
   "metadata": {},
   "source": [
    "Now we are ready to implement k-fold cross-validation. Write a function that computes k validation errors by designating each of the k segments as the validation set. It accepts as parameters (i) `k`, (ii) `l2_penalty`, (iii) dataframe, (iv) name of output column (e.g. `price`) and (v) list of feature names. The function returns the average validation error using k segments as validation sets.\n",
    "\n",
    "* For each i in [0, 1, ..., k-1]:\n",
    "  * Compute starting and ending indices of segment i and call 'start' and 'end'\n",
    "  * Form validation set by taking a slice (start:end+1) from the data.\n",
    "  * Form training set by appending slice (end+1:n) to the end of slice (0:start).\n",
    "  * Train a linear model using training set just formed, with a given l2_penalty\n",
    "  * Compute validation error using validation set just formed"
   ]
  },
  {
   "cell_type": "code",
   "execution_count": 84,
   "metadata": {},
   "outputs": [],
   "source": [
    "def k_fold_cross_validation(k, l2_penalty, data, output_name, features_list):\n",
    "    validation_errors = []\n",
    "    for i in range(0, k):\n",
    "        start = (n * i) / k\n",
    "        end = (n * (i + 1)) / k - 1\n",
    "        validation = data.loc[start:end]\n",
    "        training1 = data.loc[0:start - 1]\n",
    "        training2 = data.loc[end+1:]\n",
    "        training = pd.concat([training1, training2], axis=0, ignore_index=True)\n",
    "\n",
    "        model = linear_model.Ridge(l2_penalty)\n",
    "        model.fit(data[features_list], data[output_name])\n",
    "        \n",
    "        validation_errors.append(compute_error(model, validation[features_list], validation[output_name], l2_penalty))\n",
    "    \n",
    "    return np.mean(validation_errors)\n"
   ]
  },
  {
   "cell_type": "markdown",
   "metadata": {},
   "source": [
    "Once we have a function to compute the average validation error for a model, we can write a loop to find the model that minimizes the average validation error. Write a loop that does the following:\n",
    "* We will again be aiming to fit a 15th-order polynomial model using the `sqft_living` input\n",
    "* For `l2_penalty` in [10^1, 10^1.5, 10^2, 10^2.5, ..., 10^7] (to get this in Python, you can use this Numpy function: `np.logspace(1, 7, num=13)`.)\n",
    "    * Run 10-fold cross-validation with `l2_penalty`\n",
    "* Report which L2 penalty produced the lowest average validation error.\n",
    "\n",
    "Note: since the degree of the polynomial is now fixed to 15, to make things faster, you should generate polynomial features in advance and re-use them throughout the loop. Make sure to use `train_valid_shuffled` when generating polynomial features!"
   ]
  },
  {
   "cell_type": "code",
   "execution_count": 93,
   "metadata": {},
   "outputs": [
    {
     "data": {
      "text/plain": [
       "1.000000e+01    1.032795e+20\n",
       "3.162278e+01    7.577678e+19\n",
       "1.000000e+02    3.598103e+19\n",
       "3.162278e+02    9.335150e+18\n",
       "1.000000e+03    1.615239e+18\n",
       "3.162278e+03    3.600942e+17\n",
       "1.000000e+04    1.967726e+17\n",
       "3.162278e+04    1.743139e+17\n",
       "1.000000e+05    1.703483e+17\n",
       "3.162278e+05    1.694152e+17\n",
       "1.000000e+06    1.691524e+17\n",
       "3.162278e+06    1.690725e+17\n",
       "1.000000e+07    1.690476e+17\n",
       "dtype: float64"
      ]
     },
     "execution_count": 93,
     "metadata": {},
     "output_type": "execute_result"
    }
   ],
   "source": [
    "data = polynomial_frame(train_valid_shuffled['sqft_living'], 15)\n",
    "features = data.columns.values\n",
    "data['price'] = train_valid_shuffled['price']\n",
    "\n",
    "k = 10\n",
    "l2_penalties = np.logspace(1, 7, num=13)\n",
    "validation_errors = []\n",
    "\n",
    "for l2_penalty in l2_penalties:\n",
    "    validation_errors.append(k_fold_cross_validation(k, l2_penalty, data, 'price', features))\n",
    "\n",
    "error_series = pd.Series(validation_errors, index=l2_penalties)\n",
    "error_series"
   ]
  },
  {
   "cell_type": "markdown",
   "metadata": {},
   "source": [
    "You may find it useful to plot the k-fold cross-validation errors you have obtained to better understand the behavior of the method.  "
   ]
  },
  {
   "cell_type": "code",
   "execution_count": 94,
   "metadata": {},
   "outputs": [
    {
     "data": {
      "text/plain": [
       "[<matplotlib.lines.Line2D at 0x1234a6fd0>]"
      ]
     },
     "execution_count": 94,
     "metadata": {},
     "output_type": "execute_result"
    },
    {
     "data": {
      "image/png": "[encoded data removed]",
      "text/plain": [
       "<Figure size 432x288 with 1 Axes>"
      ]
     },
     "metadata": {
      "needs_background": "light"
     },
     "output_type": "display_data"
    }
   ],
   "source": [
    "# Plot the l2_penalty values in the x axis and the cross-validation error in the y axis.\n",
    "# Using plt.xscale('log') will make your plot more intuitive.\n",
    "\n",
    "plt.xscale('log')\n",
    "plt.plot(error_series.index.values, error_series, '-')"
   ]
  },
  {
   "cell_type": "markdown",
   "metadata": {},
   "source": [
    "Once you found the best value for the L2 penalty using cross-validation, it is important to retrain a final model on all of the training data using this value of `l2_penalty`. This way, your final model will be trained on the entire dataset."
   ]
  },
  {
   "cell_type": "code",
   "execution_count": 99,
   "metadata": {},
   "outputs": [
    {
     "data": {
      "text/plain": [
       "[<matplotlib.lines.Line2D at 0x11cfc40f0>,\n",
       " <matplotlib.lines.Line2D at 0x11c1b5160>]"
      ]
     },
     "execution_count": 99,
     "metadata": {},
     "output_type": "execute_result"
    },
    {
     "data": {
      "image/png": "[encoded data removed]",
      "text/plain": [
       "<Figure size 432x288 with 1 Axes>"
      ]
     },
     "metadata": {
      "needs_background": "light"
     },
     "output_type": "display_data"
    }
   ],
   "source": [
    "best_penalty = 1e7\n",
    "all_data = polynomial_frame(sales['sqft_living'], 15)\n",
    "features = all_data.columns.values\n",
    "all_data['price'] = sales['price']\n",
    "final_model = linear_model.Ridge(best_penalty)\n",
    "\n",
    "final_model.fit(all_data[features], all_data['price'])\n",
    "\n",
    "plt.xscale('linear')\n",
    "plt.plot(all_data['power_1'], all_data['price'], '.',\n",
    "         all_data['power_1'], final_model.predict(all_data[features]), '-')"
   ]
  }
 ],
 "metadata": {
  "kernelspec": {
   "display_name": "Python 3",
   "language": "python",
   "name": "python3"
  },
  "language_info": {
   "codemirror_mode": {
    "name": "ipython",
    "version": 3
   },
   "file_extension": ".py",
   "mimetype": "text/x-python",
   "name": "python",
   "nbconvert_exporter": "python",
   "pygments_lexer": "ipython3",
   "version": "3.7.0"
  }
 },
 "nbformat": 4,
 "nbformat_minor": 1
}
