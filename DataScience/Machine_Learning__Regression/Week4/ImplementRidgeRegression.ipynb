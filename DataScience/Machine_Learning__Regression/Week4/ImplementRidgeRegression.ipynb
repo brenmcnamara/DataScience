{
 "cells": [
  {
   "cell_type": "markdown",
   "metadata": {},
   "source": [
    "# Ridge Regression (gradient descent)"
   ]
  },
  {
   "cell_type": "markdown",
   "metadata": {},
   "source": [
    "In this notebook, you will implement ridge regression via gradient descent. You will:\n",
    "* Write a Numpy function to compute the derivative of the regression weights with respect to a single feature\n",
    "* Write gradient descent function to compute the regression weights given an initial weight vector, step size, tolerance, and L2 penalty"
   ]
  },
  {
   "cell_type": "markdown",
   "metadata": {},
   "source": [
    "# Load in house sales data\n",
    "\n",
    "Dataset is from house sales in King County, the region where the city of Seattle, WA is located."
   ]
  },
  {
   "cell_type": "code",
   "execution_count": 1,
   "metadata": {},
   "outputs": [],
   "source": [
    "import pandas as pd\n",
    "import numpy as np\n",
    "\n",
    "sales = pd.read_csv('./kc_house_data.csv')\n",
    "sales['intercept'] = np.ones(len(sales))\n",
    "\n",
    "sales = sales.sort_values(by = ['sqft_living', 'price'])"
   ]
  },
  {
   "cell_type": "markdown",
   "metadata": {},
   "source": [
    "Copy and paste the `predict_output()` function from Week 2 to compute the predictions for an entire matrix of features given the matrix and the weights:"
   ]
  },
  {
   "cell_type": "code",
   "execution_count": 2,
   "metadata": {},
   "outputs": [],
   "source": [
    "def predict_output(feature_matrix, weights):\n",
    "    # assume feature_matrix is a numpy matrix containing the features as columns and weights is a corresponding numpy array\n",
    "    # create the predictions vector by using np.dot()\n",
    "    predictions = np.dot(feature_matrix, weights)\n",
    "    return(predictions)"
   ]
  },
  {
   "cell_type": "markdown",
   "metadata": {},
   "source": [
    "# Computing the Derivative"
   ]
  },
  {
   "cell_type": "markdown",
   "metadata": {},
   "source": [
    "We are now going to move to computing the derivative of the regression cost function. Recall that the cost function is the sum over the data points of the squared difference between an observed output and a predicted output, plus the L2 penalty term.\n",
    "```\n",
    "Cost(w)\n",
    "= SUM[ (prediction - output)^2 ]\n",
    "+ l2_penalty*(w[0]^2 + w[1]^2 + ... + w[k]^2).\n",
    "```\n",
    "\n",
    "Since the derivative of a sum is the sum of the derivatives, we can take the derivative of the first part (the RSS) as we did in the notebook for the unregularized case in Week 2 and add the derivative of the regularization part.  As we saw, the derivative of the RSS with respect to `w[i]` can be written as: \n",
    "```\n",
    "2*SUM[ error*[feature_i] ].\n",
    "```\n",
    "The derivative of the regularization term with respect to `w[i]` is:\n",
    "```\n",
    "2*l2_penalty*w[i].\n",
    "```\n",
    "Summing both, we get\n",
    "```\n",
    "2*SUM[ error*[feature_i] ] + 2*l2_penalty*w[i].\n",
    "```\n",
    "That is, the derivative for the weight for feature i is the sum (over data points) of 2 times the product of the error and the feature itself, plus `2*l2_penalty*w[i]`. \n",
    "\n",
    "**We will not regularize the constant.**  Thus, in the case of the constant, the derivative is just twice the sum of the errors (without the `2*l2_penalty*w[0]` term).\n",
    "\n",
    "Recall that twice the sum of the product of two vectors is just twice the dot product of the two vectors. Therefore the derivative for the weight for feature_i is just two times the dot product between the values of feature_i and the current errors, plus `2*l2_penalty*w[i]`.\n",
    "\n",
    "With this in mind complete the following derivative function which computes the derivative of the weight given the value of the feature (over all data points) and the errors (over all data points).  To decide when to we are dealing with the constant (so we don't regularize it) we added the extra parameter to the call `feature_is_constant` which you should set to `True` when computing the derivative of the constant and `False` otherwise."
   ]
  },
  {
   "cell_type": "code",
   "execution_count": 3,
   "metadata": {},
   "outputs": [],
   "source": [
    "def feature_derivative_ridge(errors, feature, weight, l2_penalty, feature_is_constant):\n",
    "    return 2 * np.dot(errors, feature) if feature_is_constant else 2 * np.dot(errors, feature) + l2_penalty * weight"
   ]
  },
  {
   "cell_type": "markdown",
   "metadata": {},
   "source": [
    "To test your feature derivative run the following:"
   ]
  },
  {
   "cell_type": "code",
   "execution_count": 4,
   "metadata": {},
   "outputs": [
    {
     "name": "stdout",
     "output_type": "stream",
     "text": [
      "-56554166815960.0\n",
      "-56554166815950.0\n",
      "\n",
      "-22446749330.0\n",
      "-22446749330.0\n"
     ]
    }
   ],
   "source": [
    "example_features = sales[['intercept', 'sqft_living']].values\n",
    "\n",
    "example_output = sales['price'].values\n",
    "\n",
    "my_weights = np.array([1., 10.])\n",
    "test_predictions = predict_output(example_features, my_weights) \n",
    "errors = test_predictions - example_output # prediction errors\n",
    "\n",
    "# next two lines should print the same values\n",
    "print(feature_derivative_ridge(errors, example_features[:,1], my_weights[1], 1, False))\n",
    "print(np.sum(errors*example_features[:,1])*2+20.)\n",
    "print('')\n",
    "\n",
    "# next two lines should print the same values\n",
    "print(feature_derivative_ridge(errors, example_features[:,0], my_weights[0], 1, True))\n",
    "print(np.sum(errors)*2.)"
   ]
  },
  {
   "cell_type": "markdown",
   "metadata": {},
   "source": [
    "# Gradient Descent"
   ]
  },
  {
   "cell_type": "markdown",
   "metadata": {},
   "source": [
    "Now we will write a function that performs a gradient descent. The basic premise is simple. Given a starting point we update the current weights by moving in the negative gradient direction. Recall that the gradient is the direction of *increase* and therefore the negative gradient is the direction of *decrease* and we're trying to *minimize* a cost function. \n",
    "\n",
    "The amount by which we move in the negative gradient *direction*  is called the 'step size'. We stop when we are 'sufficiently close' to the optimum. Unlike in Week 2, this time we will set a **maximum number of iterations** and take gradient steps until we reach this maximum number. If no maximum number is supplied, the maximum should be set 100 by default. (Use default parameter values in Python.)\n",
    "\n",
    "With this in mind, complete the following gradient descent function below using your derivative function above. For each step in the gradient descent, we update the weight for each feature before computing our stopping criteria."
   ]
  },
  {
   "cell_type": "code",
   "execution_count": 5,
   "metadata": {},
   "outputs": [],
   "source": [
    "def ridge_regression_gradient_descent(feature_matrix, output, initial_weights, step_size, l2_penalty, max_iterations=100):\n",
    "    print('Starting gradient descent with l2_penalty = ' + str(l2_penalty))\n",
    "    \n",
    "    weights = np.array(initial_weights) # make sure it's a numpy array\n",
    "    iteration = 0\n",
    "    print_frequency = 1 # for adjusting frequency of debugging output\n",
    "    \n",
    "    while iteration < max_iterations:\n",
    "        iteration += 1  # increment iteration counter\n",
    "        ### === code section for adjusting frequency of debugging output. ===\n",
    "        if iteration == 10:\n",
    "            print_frequency = 10\n",
    "        if iteration == 100:\n",
    "            print_frequency = 100\n",
    "        if iteration%print_frequency==0:\n",
    "            print('Iteration = ' + str(iteration))\n",
    "        ### === end code section ===\n",
    "        \n",
    "        predictions = predict_output(feature_matrix, weights)\n",
    "        errors = predictions - output\n",
    "\n",
    "        # from time to time, print the value of the cost function\n",
    "        if iteration%print_frequency==0:\n",
    "            print('Cost function = ', str(np.dot(errors,errors) + l2_penalty*(np.dot(weights,weights) - weights[0]**2)))\n",
    "        \n",
    "        for idx, weight in enumerate(weights):\n",
    "            # Extract the ith feature for all the samples\n",
    "            feature = feature_matrix[:, idx]\n",
    "            derivative = feature_derivative_ridge(errors, feature, weight, l2_penalty, idx == 0)\n",
    "            weights[idx] = weights[idx] - step_size * derivative\n",
    "            \n",
    "    print('Done with gradient descent at iteration ', iteration)\n",
    "    print('Learned weights = ', str(weights))\n",
    "    return weights"
   ]
  },
  {
   "cell_type": "markdown",
   "metadata": {},
   "source": [
    "# Visualizing effect of L2 penalty"
   ]
  },
  {
   "cell_type": "markdown",
   "metadata": {},
   "source": [
    "The L2 penalty gets its name because it causes weights to have small L2 norms than otherwise. Let's see how large weights get penalized. Let us consider a simple model with 1 feature:"
   ]
  },
  {
   "cell_type": "code",
   "execution_count": 6,
   "metadata": {},
   "outputs": [],
   "source": [
    "simple_features = ['intercept', 'sqft_living']\n",
    "my_output = 'price'"
   ]
  },
  {
   "cell_type": "markdown",
   "metadata": {},
   "source": [
    "Let us split the dataset into training set and test set. Make sure to use `seed=0`:"
   ]
  },
  {
   "cell_type": "code",
   "execution_count": 7,
   "metadata": {},
   "outputs": [],
   "source": [
    "train_mask = np.random.rand(len(sales)) < 0.8\n",
    "\n",
    "train_data = sales[train_mask]\n",
    "test_data = sales[~train_mask]"
   ]
  },
  {
   "cell_type": "markdown",
   "metadata": {},
   "source": [
    "In this part, we will only use `'sqft_living'` and `intercept` to predict `'price'`. "
   ]
  },
  {
   "cell_type": "code",
   "execution_count": 8,
   "metadata": {},
   "outputs": [],
   "source": [
    "simple_feature_matrix = train_data[simple_features].values\n",
    "output = train_data[my_output].values\n",
    "\n",
    "simple_test_feature_matrix = test_data[simple_features].values\n",
    "test_output = test_data[my_output]"
   ]
  },
  {
   "cell_type": "markdown",
   "metadata": {},
   "source": [
    "Let's set the parameters for our optimization:"
   ]
  },
  {
   "cell_type": "code",
   "execution_count": 9,
   "metadata": {},
   "outputs": [],
   "source": [
    "initial_weights = np.array([0., 0.])\n",
    "step_size = 1e-12\n",
    "max_iterations = 1000"
   ]
  },
  {
   "cell_type": "markdown",
   "metadata": {},
   "source": [
    "First, let's consider no regularization.  Set the `l2_penalty` to `0.0` and run your ridge regression algorithm to learn the weights of your model."
   ]
  },
  {
   "cell_type": "code",
   "execution_count": 10,
   "metadata": {},
   "outputs": [
    {
     "name": "stdout",
     "output_type": "stream",
     "text": [
      "Starting gradient descent with l2_penalty = 0.0\n",
      "Iteration = 1\n",
      "Cost function =  7391256069615116.0\n",
      "Iteration = 2\n",
      "Cost function =  5356624482813900.0\n",
      "Iteration = 3\n",
      "Cost function =  3988665725782634.0\n",
      "Iteration = 4\n",
      "Cost function =  3068935995304790.0\n",
      "Iteration = 5\n",
      "Cost function =  2450567369215074.5\n",
      "Iteration = 6\n",
      "Cost function =  2034815061698845.0\n",
      "Iteration = 7\n",
      "Cost function =  1755289267672554.0\n",
      "Iteration = 8\n",
      "Cost function =  1567353643225295.0\n",
      "Iteration = 9\n",
      "Cost function =  1440997508325313.0\n",
      "Iteration = 10\n",
      "Cost function =  1356043562659528.8\n",
      "Iteration = 20\n",
      "Cost function =  1185015085287261.8\n",
      "Iteration = 30\n",
      "Cost function =  1181787031849101.5\n",
      "Iteration = 40\n",
      "Cost function =  1181726103876524.2\n",
      "Iteration = 50\n",
      "Cost function =  1181724953367433.5\n",
      "Iteration = 60\n",
      "Cost function =  1181724931119657.8\n",
      "Iteration = 70\n",
      "Cost function =  1181724930167091.0\n",
      "Iteration = 80\n",
      "Cost function =  1181724929616457.8\n",
      "Iteration = 90\n",
      "Cost function =  1181724929073410.8\n",
      "Iteration = 100\n",
      "Cost function =  1181724928530507.5\n",
      "Iteration = 200\n",
      "Cost function =  1181724923101501.8\n",
      "Iteration = 300\n",
      "Cost function =  1181724917672502.2\n",
      "Iteration = 400\n",
      "Cost function =  1181724912243509.5\n",
      "Iteration = 500\n",
      "Cost function =  1181724906814522.5\n",
      "Iteration = 600\n",
      "Cost function =  1181724901385541.5\n",
      "Iteration = 700\n",
      "Cost function =  1181724895956566.8\n",
      "Iteration = 800\n",
      "Cost function =  1181724890527598.2\n",
      "Iteration = 900\n",
      "Cost function =  1181724885098636.0\n",
      "Iteration = 1000\n",
      "Cost function =  1181724879669680.0\n",
      "Done with gradient descent at iteration  1000\n",
      "Learned weights =  [-1.27562245e-01  2.62640786e+02]\n"
     ]
    }
   ],
   "source": [
    "simple_weights_0_penalty = ridge_regression_gradient_descent(\n",
    "    simple_feature_matrix,\n",
    "    output,\n",
    "    initial_weights,\n",
    "    step_size,\n",
    "    0.0,\n",
    "    max_iterations) "
   ]
  },
  {
   "cell_type": "markdown",
   "metadata": {},
   "source": [
    "Next, let's consider high regularization.  Set the `l2_penalty` to `1e11` and run your ridge regression algorithm to learn the weights of your model."
   ]
  },
  {
   "cell_type": "code",
   "execution_count": 11,
   "metadata": {},
   "outputs": [
    {
     "name": "stdout",
     "output_type": "stream",
     "text": [
      "Starting gradient descent with l2_penalty = 100000000000.0\n",
      "Iteration = 1\n",
      "Cost function =  7391256069615116.0\n",
      "Iteration = 2\n",
      "Cost function =  5580215031445413.0\n",
      "Iteration = 3\n",
      "Cost function =  4802447623414712.0\n",
      "Iteration = 4\n",
      "Cost function =  4515192800357547.0\n",
      "Iteration = 5\n",
      "Cost function =  4449737113138011.0\n",
      "Iteration = 6\n",
      "Cost function =  4475883102310259.0\n",
      "Iteration = 7\n",
      "Cost function =  4532687162952291.0\n",
      "Iteration = 8\n",
      "Cost function =  4593270621525007.0\n",
      "Iteration = 9\n",
      "Cost function =  4647092892000676.0\n",
      "Iteration = 10\n",
      "Cost function =  4691132309350826.0\n",
      "Iteration = 20\n",
      "Cost function =  4819157228581638.0\n",
      "Iteration = 30\n",
      "Cost function =  4824473523242018.0\n",
      "Iteration = 40\n",
      "Cost function =  4824672504732538.0\n",
      "Iteration = 50\n",
      "Cost function =  4824679264458002.0\n",
      "Iteration = 60\n",
      "Cost function =  4824678830369183.0\n",
      "Iteration = 70\n",
      "Cost function =  4824678127092378.0\n",
      "Iteration = 80\n",
      "Cost function =  4824677413742977.0\n",
      "Iteration = 90\n",
      "Cost function =  4824676700016869.0\n",
      "Iteration = 100\n",
      "Cost function =  4824675986276870.0\n",
      "Iteration = 200\n",
      "Cost function =  4824668848883062.0\n",
      "Iteration = 300\n",
      "Cost function =  4824661711510402.0\n",
      "Iteration = 400\n",
      "Cost function =  4824654574158913.0\n",
      "Iteration = 500\n",
      "Cost function =  4824647436828593.0\n",
      "Iteration = 600\n",
      "Cost function =  4824640299519442.0\n",
      "Iteration = 700\n",
      "Cost function =  4824633162231460.0\n",
      "Iteration = 800\n",
      "Cost function =  4824626024964647.0\n",
      "Iteration = 900\n",
      "Cost function =  4824618887719004.0\n",
      "Iteration = 1000\n",
      "Cost function =  4824611750494530.0\n",
      "Done with gradient descent at iteration  1000\n",
      "Learned weights =  [  6.58929594 168.85156957]\n"
     ]
    }
   ],
   "source": [
    "simple_weights_high_penalty = ridge_regression_gradient_descent(\n",
    "    simple_feature_matrix,\n",
    "    output,\n",
    "    initial_weights,\n",
    "    step_size,\n",
    "    1e11,\n",
    "    max_iterations) "
   ]
  },
  {
   "cell_type": "markdown",
   "metadata": {},
   "source": [
    "This code will plot the two learned models.  (The blue line is for the model with no regularization and the red line is for the one with high regularization.)"
   ]
  },
  {
   "cell_type": "code",
   "execution_count": 12,
   "metadata": {},
   "outputs": [
    {
     "data": {
      "text/plain": [
       "[<matplotlib.lines.Line2D at 0x1179ee8d0>,\n",
       " <matplotlib.lines.Line2D at 0x119db17f0>,\n",
       " <matplotlib.lines.Line2D at 0x119db1908>,\n",
       " <matplotlib.lines.Line2D at 0x119dc2160>,\n",
       " <matplotlib.lines.Line2D at 0x119dc22b0>,\n",
       " <matplotlib.lines.Line2D at 0x119dc2a20>]"
      ]
     },
     "execution_count": 12,
     "metadata": {},
     "output_type": "execute_result"
    },
    {
     "data": {
      "image/png": "[encoded data removed]",
      "text/plain": [
       "<Figure size 432x288 with 1 Axes>"
      ]
     },
     "metadata": {
      "needs_background": "light"
     },
     "output_type": "display_data"
    }
   ],
   "source": [
    "import matplotlib.pyplot as plt\n",
    "%matplotlib inline\n",
    "plt.plot(simple_feature_matrix,output,'k.',\n",
    "         simple_feature_matrix,predict_output(simple_feature_matrix, simple_weights_0_penalty),'b-',\n",
    "         simple_feature_matrix,predict_output(simple_feature_matrix, simple_weights_high_penalty),'r-')"
   ]
  },
  {
   "cell_type": "markdown",
   "metadata": {},
   "source": [
    "Compute the RSS on the TEST data for the following three sets of weights:\n",
    "1. The initial weights (all zeros)\n",
    "2. The weights learned with no regularization\n",
    "3. The weights learned with high regularization\n",
    "\n",
    "Which weights perform best?"
   ]
  },
  {
   "cell_type": "code",
   "execution_count": 13,
   "metadata": {},
   "outputs": [],
   "source": [
    "def compute_rss(feature_matrix, weights, outputs):\n",
    "    predictions = predict_output(feature_matrix, weights)\n",
    "    errors = predictions - outputs\n",
    "    return np.dot(errors, errors)"
   ]
  },
  {
   "cell_type": "code",
   "execution_count": 24,
   "metadata": {},
   "outputs": [
    {
     "data": {
      "text/plain": [
       "1826069068856954.0"
      ]
     },
     "execution_count": 24,
     "metadata": {},
     "output_type": "execute_result"
    }
   ],
   "source": [
    "# Computing the RSS of initial weights\n",
    "compute_rss(simple_test_feature_matrix, np.array([0, 0]), test_output)"
   ]
  },
  {
   "cell_type": "code",
   "execution_count": 14,
   "metadata": {},
   "outputs": [
    {
     "data": {
      "text/plain": [
       "302271833875269.44"
      ]
     },
     "execution_count": 14,
     "metadata": {},
     "output_type": "execute_result"
    }
   ],
   "source": [
    "# Computing the RSS of non-regularized weights:\n",
    "compute_rss(simple_test_feature_matrix, simple_weights_0_penalty, test_output)"
   ]
  },
  {
   "cell_type": "code",
   "execution_count": 15,
   "metadata": {},
   "outputs": [
    {
     "data": {
      "text/plain": [
       "502619423753182.5"
      ]
     },
     "execution_count": 15,
     "metadata": {},
     "output_type": "execute_result"
    }
   ],
   "source": [
    "# Computing the RSS for regularized weights:\n",
    "compute_rss(simple_test_feature_matrix, simple_weights_high_penalty, test_output)"
   ]
  },
  {
   "cell_type": "markdown",
   "metadata": {},
   "source": [
    "# Running a multiple regression with L2 penalty"
   ]
  },
  {
   "cell_type": "markdown",
   "metadata": {},
   "source": [
    "Let us now consider a model with 2 features: `['sqft_living', 'sqft_living15']`."
   ]
  },
  {
   "cell_type": "markdown",
   "metadata": {},
   "source": [
    "First, create Numpy versions of your training and test data with these two features. "
   ]
  },
  {
   "cell_type": "code",
   "execution_count": 20,
   "metadata": {},
   "outputs": [],
   "source": [
    "model_features = ['intercept', 'sqft_living', 'sqft_living15'] # sqft_living15 is the average squarefeet for the nearest 15 neighbors. \n",
    "my_output = 'price'\n",
    "\n",
    "feature_matrix = train_data[model_features].values\n",
    "output = train_data[my_output].values\n",
    "\n",
    "test_feature_matrix = test_data[model_features].values\n",
    "test_output = test_data[my_output]"
   ]
  },
  {
   "cell_type": "markdown",
   "metadata": {},
   "source": [
    "We need to re-inialize the weights, since we have one extra parameter. Let us also set the step size and maximum number of iterations."
   ]
  },
  {
   "cell_type": "code",
   "execution_count": 21,
   "metadata": {},
   "outputs": [],
   "source": [
    "initial_weights = np.array([0.0,0.0,0.0])\n",
    "step_size = 1e-12\n",
    "max_iterations = 1000"
   ]
  },
  {
   "cell_type": "markdown",
   "metadata": {},
   "source": [
    "First, let's consider no regularization.  Set the `l2_penalty` to `0.0` and run your ridge regression algorithm to learn the weights of your model.  Call your weights:\n",
    "\n",
    "`multiple_weights_0_penalty`"
   ]
  },
  {
   "cell_type": "code",
   "execution_count": 22,
   "metadata": {},
   "outputs": [
    {
     "name": "stdout",
     "output_type": "stream",
     "text": [
      "Starting gradient descent with l2_penalty = 0.0\n",
      "Iteration = 1\n",
      "Cost function =  7391256069615116.0\n",
      "Iteration = 2\n",
      "Cost function =  4019942765087557.0\n",
      "Iteration = 3\n",
      "Cost function =  2494690889244921.5\n",
      "Iteration = 4\n",
      "Cost function =  1804432033064610.2\n",
      "Iteration = 5\n",
      "Cost function =  1491851734935882.8\n",
      "Iteration = 6\n",
      "Cost function =  1350102916907070.0\n",
      "Iteration = 7\n",
      "Cost function =  1285626922284644.0\n",
      "Iteration = 8\n",
      "Cost function =  1256106362954279.2\n",
      "Iteration = 9\n",
      "Cost function =  1242400691069549.5\n",
      "Iteration = 10\n",
      "Cost function =  1235852431446434.5\n",
      "Iteration = 20\n",
      "Cost function =  1224947612278771.5\n",
      "Iteration = 30\n",
      "Cost function =  1219596918930127.0\n",
      "Iteration = 40\n",
      "Cost function =  1214852401117607.5\n",
      "Iteration = 50\n",
      "Cost function =  1210644012859500.2\n",
      "Iteration = 60\n",
      "Cost function =  1206911171115668.8\n",
      "Iteration = 70\n",
      "Cost function =  1203600139266753.0\n",
      "Iteration = 80\n",
      "Cost function =  1200663252916103.2\n",
      "Iteration = 90\n",
      "Cost function =  1198058233730164.8\n",
      "Iteration = 100\n",
      "Cost function =  1195747580814899.0\n",
      "Iteration = 200\n",
      "Cost function =  1183077796983151.8\n",
      "Iteration = 300\n",
      "Cost function =  1179258285257454.0\n",
      "Iteration = 400\n",
      "Cost function =  1178106825176678.8\n",
      "Iteration = 500\n",
      "Cost function =  1177759690600782.5\n",
      "Iteration = 600\n",
      "Cost function =  1177655032409870.0\n",
      "Iteration = 700\n",
      "Cost function =  1177623472481940.0\n",
      "Iteration = 800\n",
      "Cost function =  1177613949157913.8\n",
      "Iteration = 900\n",
      "Cost function =  1177611069109558.0\n",
      "Iteration = 1000\n",
      "Cost function =  1177610191779585.0\n",
      "Done with gradient descent at iteration  1000\n",
      "Learned weights =  [ -0.34391011 237.92320265  27.77155325]\n"
     ]
    }
   ],
   "source": [
    "multiple_weights_0_penalty = ridge_regression_gradient_descent(\n",
    "    feature_matrix,\n",
    "    output,\n",
    "    initial_weights,\n",
    "    step_size,\n",
    "    0.0,\n",
    "    max_iterations) "
   ]
  },
  {
   "cell_type": "markdown",
   "metadata": {},
   "source": [
    "Next, let's consider high regularization.  Set the `l2_penalty` to `1e11` and run your ridge regression algorithm to learn the weights of your model.  Call your weights:\n",
    "\n",
    "`multiple_weights_high_penalty`"
   ]
  },
  {
   "cell_type": "code",
   "execution_count": 23,
   "metadata": {},
   "outputs": [
    {
     "name": "stdout",
     "output_type": "stream",
     "text": [
      "Starting gradient descent with l2_penalty = 100000000000.0\n",
      "Iteration = 1\n",
      "Cost function =  7391256069615116.0\n",
      "Iteration = 2\n",
      "Cost function =  4423066365055598.5\n",
      "Iteration = 3\n",
      "Cost function =  3680618715946407.0\n",
      "Iteration = 4\n",
      "Cost function =  3569211372757271.0\n",
      "Iteration = 5\n",
      "Cost function =  3608245712020420.0\n",
      "Iteration = 6\n",
      "Cost function =  3664306818857652.0\n",
      "Iteration = 7\n",
      "Cost function =  3707470732195117.0\n",
      "Iteration = 8\n",
      "Cost function =  3735832332811112.0\n",
      "Iteration = 9\n",
      "Cost function =  3753290550157463.5\n",
      "Iteration = 10\n",
      "Cost function =  3763711868226594.5\n",
      "Iteration = 20\n",
      "Cost function =  3778764360319094.0\n",
      "Iteration = 30\n",
      "Cost function =  3779244023904563.0\n",
      "Iteration = 40\n",
      "Cost function =  3779400701212665.5\n",
      "Iteration = 50\n",
      "Cost function =  3779453476018605.0\n",
      "Iteration = 60\n",
      "Cost function =  3779470700575416.0\n",
      "Iteration = 70\n",
      "Cost function =  3779476145434330.0\n",
      "Iteration = 80\n",
      "Cost function =  3779477728233842.0\n",
      "Iteration = 90\n",
      "Cost function =  3779478049151717.5\n",
      "Iteration = 100\n",
      "Cost function =  3779477958222565.5\n",
      "Iteration = 200\n",
      "Cost function =  3779475151255952.5\n",
      "Iteration = 300\n",
      "Cost function =  3779472247748654.5\n",
      "Iteration = 400\n",
      "Cost function =  3779469344245924.0\n",
      "Iteration = 500\n",
      "Cost function =  3779466440749077.0\n",
      "Iteration = 600\n",
      "Cost function =  3779463537258115.5\n",
      "Iteration = 700\n",
      "Cost function =  3779460633773038.0\n",
      "Iteration = 800\n",
      "Cost function =  3779457730293845.0\n",
      "Iteration = 900\n",
      "Cost function =  3779454826820536.0\n",
      "Iteration = 1000\n",
      "Cost function =  3779451923353111.0\n",
      "Done with gradient descent at iteration  1000\n",
      "Learned weights =  [  3.96500379 114.66969687  94.72037498]\n"
     ]
    }
   ],
   "source": [
    "multiple_weights_high_penalty = ridge_regression_gradient_descent(\n",
    "    feature_matrix,\n",
    "    output,\n",
    "    initial_weights,\n",
    "    step_size,\n",
    "    1e11,\n",
    "    max_iterations) "
   ]
  },
  {
   "cell_type": "markdown",
   "metadata": {},
   "source": [
    "Compute the RSS on the TEST data for the following three sets of weights:\n",
    "1. The initial weights (all zeros)\n",
    "2. The weights learned with no regularization\n",
    "3. The weights learned with high regularization\n",
    "\n",
    "Which weights perform best?"
   ]
  },
  {
   "cell_type": "code",
   "execution_count": 25,
   "metadata": {},
   "outputs": [
    {
     "data": {
      "text/plain": [
       "1826069068856954.0"
      ]
     },
     "execution_count": 25,
     "metadata": {},
     "output_type": "execute_result"
    }
   ],
   "source": [
    "compute_rss(test_feature_matrix, initial_weights, test_output)"
   ]
  },
  {
   "cell_type": "code",
   "execution_count": 26,
   "metadata": {},
   "outputs": [
    {
     "data": {
      "text/plain": [
       "302048925848945.94"
      ]
     },
     "execution_count": 26,
     "metadata": {},
     "output_type": "execute_result"
    }
   ],
   "source": [
    "compute_rss(test_feature_matrix, multiple_weights_0_penalty, test_output)"
   ]
  },
  {
   "cell_type": "code",
   "execution_count": 27,
   "metadata": {},
   "outputs": [
    {
     "data": {
      "text/plain": [
       "401598188015262.9"
      ]
     },
     "execution_count": 27,
     "metadata": {},
     "output_type": "execute_result"
    }
   ],
   "source": [
    "compute_rss(test_feature_matrix, multiple_weights_high_penalty, test_output)"
   ]
  }
 ],
 "metadata": {
  "kernelspec": {
   "display_name": "Python 3",
   "language": "python",
   "name": "python3"
  },
  "language_info": {
   "codemirror_mode": {
    "name": "ipython",
    "version": 3
   },
   "file_extension": ".py",
   "mimetype": "text/x-python",
   "name": "python",
   "nbconvert_exporter": "python",
   "pygments_lexer": "ipython3",
   "version": "3.7.0"
  }
 },
 "nbformat": 4,
 "nbformat_minor": 1
}
