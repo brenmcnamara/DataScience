{
 "cells": [
  {
   "cell_type": "code",
   "execution_count": 3,
   "metadata": {},
   "outputs": [
    {
     "data": {
      "text/html": [
       "<div>\n",
       "<style scoped>\n",
       "    .dataframe tbody tr th:only-of-type {\n",
       "        vertical-align: middle;\n",
       "    }\n",
       "\n",
       "    .dataframe tbody tr th {\n",
       "        vertical-align: top;\n",
       "    }\n",
       "\n",
       "    .dataframe thead th {\n",
       "        text-align: right;\n",
       "    }\n",
       "</style>\n",
       "<table border=\"1\" class=\"dataframe\">\n",
       "  <thead>\n",
       "    <tr style=\"text-align: right;\">\n",
       "      <th></th>\n",
       "      <th>HousePrice</th>\n",
       "      <th>HsPrc ($10,000)</th>\n",
       "      <th>CrimeRate</th>\n",
       "      <th>MilesPhila</th>\n",
       "      <th>PopChg</th>\n",
       "      <th>Name</th>\n",
       "      <th>County</th>\n",
       "    </tr>\n",
       "  </thead>\n",
       "  <tbody>\n",
       "    <tr>\n",
       "      <th>0</th>\n",
       "      <td>140463</td>\n",
       "      <td>14.0463</td>\n",
       "      <td>29.7</td>\n",
       "      <td>10.0</td>\n",
       "      <td>-1.0</td>\n",
       "      <td>Abington</td>\n",
       "      <td>Montgome</td>\n",
       "    </tr>\n",
       "    <tr>\n",
       "      <th>1</th>\n",
       "      <td>113033</td>\n",
       "      <td>11.3033</td>\n",
       "      <td>24.1</td>\n",
       "      <td>18.0</td>\n",
       "      <td>4.0</td>\n",
       "      <td>Ambler</td>\n",
       "      <td>Montgome</td>\n",
       "    </tr>\n",
       "    <tr>\n",
       "      <th>2</th>\n",
       "      <td>124186</td>\n",
       "      <td>12.4186</td>\n",
       "      <td>19.5</td>\n",
       "      <td>25.0</td>\n",
       "      <td>8.0</td>\n",
       "      <td>Aston</td>\n",
       "      <td>Delaware</td>\n",
       "    </tr>\n",
       "    <tr>\n",
       "      <th>3</th>\n",
       "      <td>110490</td>\n",
       "      <td>11.0490</td>\n",
       "      <td>49.4</td>\n",
       "      <td>25.0</td>\n",
       "      <td>2.7</td>\n",
       "      <td>Bensalem</td>\n",
       "      <td>Bucks</td>\n",
       "    </tr>\n",
       "    <tr>\n",
       "      <th>4</th>\n",
       "      <td>79124</td>\n",
       "      <td>7.9124</td>\n",
       "      <td>54.1</td>\n",
       "      <td>19.0</td>\n",
       "      <td>3.9</td>\n",
       "      <td>Bristol B.</td>\n",
       "      <td>Bucks</td>\n",
       "    </tr>\n",
       "  </tbody>\n",
       "</table>\n",
       "</div>"
      ],
      "text/plain": [
       "   HousePrice  HsPrc ($10,000)  CrimeRate  MilesPhila  PopChg        Name  \\\n",
       "0      140463          14.0463       29.7        10.0    -1.0    Abington   \n",
       "1      113033          11.3033       24.1        18.0     4.0      Ambler   \n",
       "2      124186          12.4186       19.5        25.0     8.0       Aston   \n",
       "3      110490          11.0490       49.4        25.0     2.7    Bensalem   \n",
       "4       79124           7.9124       54.1        19.0     3.9  Bristol B.   \n",
       "\n",
       "     County  \n",
       "0  Montgome  \n",
       "1  Montgome  \n",
       "2  Delaware  \n",
       "3     Bucks  \n",
       "4     Bucks  "
      ]
     },
     "execution_count": 3,
     "metadata": {},
     "output_type": "execute_result"
    }
   ],
   "source": [
    "import pandas as pd\n",
    "\n",
    "sales = pd.read_csv('Philadelphia_Crime_Rate_noNA.csv')\n",
    "sales.head(5)"
   ]
  },
  {
   "cell_type": "markdown",
   "metadata": {},
   "source": [
    "# Exploring the Data\n",
    "\n",
    "The house prive in a town is correlated with the crime rate of that town. Low crime towns tend to be associated with higher house prices and vice versa."
   ]
  },
  {
   "cell_type": "code",
   "execution_count": 19,
   "metadata": {},
   "outputs": [
    {
     "data": {
      "text/plain": [
       "[<matplotlib.lines.Line2D at 0x1161c52b0>,\n",
       " <matplotlib.lines.Line2D at 0x1161c57f0>]"
      ]
     },
     "execution_count": 19,
     "metadata": {},
     "output_type": "execute_result"
    },
    {
     "data": {
      "image/png": "[encoded data removed]",
      "text/plain": [
       "<Figure size 432x288 with 1 Axes>"
      ]
     },
     "metadata": {
      "needs_background": "light"
     },
     "output_type": "display_data"
    }
   ],
   "source": [
    "from matplotlib.pyplot import plot\n",
    "from sklearn.linear_model import LinearRegression\n",
    "\n",
    "lr = LinearRegression()\n",
    "lr.fit(X=sales[['CrimeRate']], y=sales['HousePrice'])\n",
    "\n",
    "plot(\n",
    "    sales['CrimeRate'], sales['HousePrice'], '.',\n",
    "    sales['CrimeRate'], lr.predict(sales[['CrimeRate']]), '-')"
   ]
  },
  {
   "cell_type": "markdown",
   "metadata": {},
   "source": [
    "# Remove Center City and Redo the Analysis\n",
    "\n",
    "Center City is the one observation with an extremely high crime rate, yet house prices are not very low. This point does not follow the trend of the rest of the data very well. A question is how much including Center City is influencing our fit on the other datapoints. Let's remove this datapoint and see what happens."
   ]
  },
  {
   "cell_type": "code",
   "execution_count": 20,
   "metadata": {},
   "outputs": [
    {
     "data": {
      "text/plain": [
       "<matplotlib.axes._subplots.AxesSubplot at 0x1162556a0>"
      ]
     },
     "execution_count": 20,
     "metadata": {},
     "output_type": "execute_result"
    },
    {
     "data": {
      "image/png": "[encoded data removed]",
      "text/plain": [
       "<Figure size 432x288 with 1 Axes>"
      ]
     },
     "metadata": {
      "needs_background": "light"
     },
     "output_type": "display_data"
    }
   ],
   "source": [
    "sales_noCC = sales[sales['MilesPhila'] != 0.0]\n",
    "sales_noCC.plot.scatter(x='CrimeRate', y='HousePrice')"
   ]
  },
  {
   "cell_type": "markdown",
   "metadata": {},
   "source": [
    "And we can refit our linear regression model to the new data..."
   ]
  },
  {
   "cell_type": "code",
   "execution_count": 21,
   "metadata": {},
   "outputs": [
    {
     "data": {
      "text/plain": [
       "[<matplotlib.lines.Line2D at 0x11638a048>,\n",
       " <matplotlib.lines.Line2D at 0x11611feb8>]"
      ]
     },
     "execution_count": 21,
     "metadata": {},
     "output_type": "execute_result"
    },
    {
     "data": {
      "image/png": "[encoded data removed]",
      "text/plain": [
       "<Figure size 432x288 with 1 Axes>"
      ]
     },
     "metadata": {
      "needs_background": "light"
     },
     "output_type": "display_data"
    }
   ],
   "source": [
    "lr_noCC = LinearRegression()\n",
    "lr_noCC.fit(X=sales_noCC[['CrimeRate']], y=sales_noCC['HousePrice'])\n",
    "\n",
    "plot(\n",
    "    sales_noCC[['CrimeRate']], sales_noCC['HousePrice'], '.',\n",
    "    sales_noCC[['CrimeRate']], lr_noCC.predict(sales_noCC[['CrimeRate']]), '-')"
   ]
  },
  {
   "cell_type": "markdown",
   "metadata": {},
   "source": [
    "Let's compare the coefficients of the trained models with and without Center City."
   ]
  },
  {
   "cell_type": "code",
   "execution_count": 26,
   "metadata": {},
   "outputs": [
    {
     "data": {
      "text/plain": [
       "(176629.40810695427, array([-576.90812768]))"
      ]
     },
     "execution_count": 26,
     "metadata": {},
     "output_type": "execute_result"
    }
   ],
   "source": [
    "(lr.intercept_, lr.coef_)"
   ]
  },
  {
   "cell_type": "code",
   "execution_count": 28,
   "metadata": {},
   "outputs": [
    {
     "data": {
      "text/plain": [
       "(225233.55183900378, array([-2288.68942995]))"
      ]
     },
     "execution_count": 28,
     "metadata": {},
     "output_type": "execute_result"
    }
   ],
   "source": [
    "(lr_noCC.intercept_, lr_noCC.coef_)"
   ]
  },
  {
   "cell_type": "markdown",
   "metadata": {},
   "source": [
    "### High Leverage Points:\n",
    "\n",
    "Center city is said to be a \"high leverage\" point because it is **at an extreme x value where there are not other observations**. As a result, recalling the closed-form solution for simple regression, this point has the potential to dramatically change the least squares line since the center of x mass is heavily influenced by this one point and the least squares line will try to fit close to that outlying (in x) point. If a high leverage point follows the trend of the other data, this might not have much effect. On the other hand, if this point somehow differs, it can be strongly influential in the resulting fit.\n",
    "\n",
    "### Influential Observations:\n",
    "\n",
    "An influential observation is one where **the removal of the point significantly changes the fit**. As discussed above, high leverage points are good candidates for being influential observations, but need not be. Other observations that are *not* leverage points can also be influential observations (e.g. strongly outlying i y even if x is a typical value).\n",
    "\n",
    "# Remove high-value outlier neighborhoods and redo analysis\n",
    "\n",
    "Based on the discussion above, a question is whether the outlying high-value towns are strongly influencing the fit. Let's remove them and see what happens..."
   ]
  },
  {
   "cell_type": "code",
   "execution_count": 31,
   "metadata": {},
   "outputs": [
    {
     "data": {
      "text/plain": [
       "(199098.85266980447, array([-1838.56264859]))"
      ]
     },
     "execution_count": 31,
     "metadata": {},
     "output_type": "execute_result"
    }
   ],
   "source": [
    "sales_noHighEnd = sales_noCC[sales_noCC['HousePrice'] < 350000]\n",
    "\n",
    "crime_model_noHighEnd = LinearRegression()\n",
    "crime_model_noHighEnd.fit(\n",
    "    X=sales_noHighEnd[['CrimeRate']],\n",
    "    y=sales_noHighEnd['HousePrice'])\n",
    "\n",
    "(crime_model_noHighEnd.intercept_, crime_model_noHighEnd.coef_)"
   ]
  },
  {
   "cell_type": "markdown",
   "metadata": {},
   "source": [
    "Removing the outlying high-value neighborhoods has *some* effect on the fit, but not nearly as much as our high-leverage Center City datapoint."
   ]
  },
  {
   "cell_type": "code",
   "execution_count": null,
   "metadata": {},
   "outputs": [],
   "source": []
  }
 ],
 "metadata": {
  "kernelspec": {
   "display_name": "Python 3",
   "language": "python",
   "name": "python3"
  },
  "language_info": {
   "codemirror_mode": {
    "name": "ipython",
    "version": 3
   },
   "file_extension": ".py",
   "mimetype": "text/x-python",
   "name": "python",
   "nbconvert_exporter": "python",
   "pygments_lexer": "ipython3",
   "version": "3.7.0"
  }
 },
 "nbformat": 4,
 "nbformat_minor": 2
}
