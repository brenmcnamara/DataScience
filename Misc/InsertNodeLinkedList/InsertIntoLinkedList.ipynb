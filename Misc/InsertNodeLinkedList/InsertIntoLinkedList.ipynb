{
 "cells": [
  {
   "cell_type": "markdown",
   "metadata": {},
   "source": [
    "# Insert a Node into a Linked List\n",
    "\n",
    "Given a linked list of nodes, where the nodes contain intergers sorted from least to greatest, insert a node into the list.\n",
    "\n",
    "For example:\n",
    "\n",
    "Given list:\n",
    "\n",
    "(4) -> (7) -> (10) -> (70)\n",
    "\n",
    "Inserting node (9) will result in the following:\n",
    "\n",
    "(4) -> (7) -> (9) -> (10) -> (70)\n",
    "\n",
    "Implement the function `insert_into_list(linked_list, node)`"
   ]
  },
  {
   "cell_type": "code",
   "execution_count": 31,
   "metadata": {},
   "outputs": [],
   "source": [
    "class Node:\n",
    "    val = None\n",
    "    next = None\n",
    "    \n",
    "    def toString(self):\n",
    "        string = '[' + str(self.val) + '] -> '\n",
    "        if self.next:\n",
    "            string += self.next.toString()\n",
    "        else:\n",
    "            string += '(null)'\n",
    "        return string\n",
    "\n",
    "    def print(self):\n",
    "        print(self.toString())"
   ]
  },
  {
   "cell_type": "code",
   "execution_count": 32,
   "metadata": {},
   "outputs": [],
   "source": [
    "def insert_into_list(linked_list, node):\n",
    "    prev = None\n",
    "    next = linked_list\n",
    "\n",
    "    while next and next.val < node.val:\n",
    "        prev = next\n",
    "        next = next.next\n",
    "    \n",
    "    if prev:\n",
    "        prev.next = node\n",
    "\n",
    "    node.next = next\n",
    "    \n",
    "    return node if prev is None else linked_list\n",
    "        "
   ]
  },
  {
   "cell_type": "markdown",
   "metadata": {},
   "source": [
    "The above algorithm take `O(1)` space complexity, since it uses exactly 2 pointers to iterate the list. The time complexity is `O(n)`, where the worst case is intserting at the end of the list."
   ]
  },
  {
   "cell_type": "code",
   "execution_count": 35,
   "metadata": {},
   "outputs": [
    {
     "name": "stderr",
     "output_type": "stream",
     "text": [
      "....\n",
      "----------------------------------------------------------------------\n",
      "Ran 4 tests in 0.004s\n",
      "\n",
      "OK\n"
     ]
    },
    {
     "data": {
      "text/plain": [
       "<unittest.main.TestProgram at 0x105fbba90>"
      ]
     },
     "execution_count": 35,
     "metadata": {},
     "output_type": "execute_result"
    }
   ],
   "source": [
    "import unittest\n",
    "\n",
    "class TestInsertion(unittest.TestCase):\n",
    "    \n",
    "    def test_insert_into_empty_list(self):\n",
    "        linked_list = None\n",
    "        \n",
    "        node = Node()\n",
    "        node.val = 10\n",
    "        \n",
    "        linked_list = insert_into_list(linked_list, node)\n",
    "        \n",
    "        self.assertIs(node, linked_list)\n",
    "        self.assertIsNone(node.next)\n",
    "    \n",
    "    def test_insert_into_beginning_of_list(self):\n",
    "        linked_list = Node()\n",
    "        linked_list.val = 10\n",
    "        \n",
    "        node = Node()\n",
    "        node.val = 5\n",
    "        \n",
    "        new_linked_list = insert_into_list(linked_list, node)\n",
    "        \n",
    "        self.assertIs(node, new_linked_list)\n",
    "        self.assertIs(node.next, linked_list)\n",
    "    \n",
    "    def test_insert_into_end_of_list(self):\n",
    "        node1 = Node()\n",
    "        node1.val = 10\n",
    "        \n",
    "        node2 = Node()\n",
    "        node2.val = 20\n",
    "        \n",
    "        node3 = Node()\n",
    "        node3.val = 30\n",
    "        \n",
    "        node1.next = node2\n",
    "        node2.next = node3\n",
    "        \n",
    "        test_node = Node()\n",
    "        test_node.val = 40\n",
    "        \n",
    "        linked_list = insert_into_list(node1, test_node)\n",
    "        \n",
    "        self.assertIs(node1, linked_list)\n",
    "        self.assertIs(node3.next, test_node)\n",
    "        self.assertIsNone(test_node.next)\n",
    "        \n",
    "    def test_insert_into_middle_of_list(self):\n",
    "        node1 = Node()\n",
    "        node1.val = 10\n",
    "        \n",
    "        node2 = Node()\n",
    "        node2.val = 20\n",
    "        \n",
    "        node3 = Node()\n",
    "        node3.val = 30\n",
    "        \n",
    "        node1.next = node2\n",
    "        node2.next = node3\n",
    "        \n",
    "        test_node = Node()\n",
    "        test_node.val = 25\n",
    "\n",
    "        linked_list = insert_into_list(node1, test_node)\n",
    "        \n",
    "        self.assertIs(node1, linked_list)\n",
    "        self.assertIs(node2.next, test_node)\n",
    "        self.assertIs(test_node.next, node3)\n",
    "\n",
    "unittest.main(argv=['first-arg-is-ignored'], exit=False)        "
   ]
  },
  {
   "cell_type": "code",
   "execution_count": null,
   "metadata": {},
   "outputs": [],
   "source": []
  }
 ],
 "metadata": {
  "kernelspec": {
   "display_name": "Python 3",
   "language": "python",
   "name": "python3"
  },
  "language_info": {
   "codemirror_mode": {
    "name": "ipython",
    "version": 3
   },
   "file_extension": ".py",
   "mimetype": "text/x-python",
   "name": "python",
   "nbconvert_exporter": "python",
   "pygments_lexer": "ipython3",
   "version": "3.7.0"
  }
 },
 "nbformat": 4,
 "nbformat_minor": 2
}
